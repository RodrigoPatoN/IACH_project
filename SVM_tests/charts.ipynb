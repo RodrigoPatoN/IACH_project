{
 "cells": [
  {
   "cell_type": "code",
   "execution_count": 59,
   "metadata": {},
   "outputs": [],
   "source": [
    "import plotly.graph_objects as go\n",
    "import pandas as pd"
   ]
  },
  {
   "cell_type": "code",
   "execution_count": 60,
   "metadata": {},
   "outputs": [],
   "source": [
    "results_svm = pd.read_csv('results_svm.csv')\n",
    "results_lstm = pd.read_csv('results_lstm_refined.csv')\n",
    "results_bert = pd.read_csv('results_bert_refined.csv')"
   ]
  },
  {
   "cell_type": "code",
   "execution_count": 61,
   "metadata": {},
   "outputs": [
    {
     "data": {
      "text/html": [
       "<div>\n",
       "<style scoped>\n",
       "    .dataframe tbody tr th:only-of-type {\n",
       "        vertical-align: middle;\n",
       "    }\n",
       "\n",
       "    .dataframe tbody tr th {\n",
       "        vertical-align: top;\n",
       "    }\n",
       "\n",
       "    .dataframe thead th {\n",
       "        text-align: right;\n",
       "    }\n",
       "</style>\n",
       "<table border=\"1\" class=\"dataframe\">\n",
       "  <thead>\n",
       "    <tr style=\"text-align: right;\">\n",
       "      <th></th>\n",
       "      <th>run_name</th>\n",
       "      <th>model</th>\n",
       "      <th>active_learning_strategy</th>\n",
       "      <th>dataset_size</th>\n",
       "      <th>accuracy</th>\n",
       "      <th>precision_avg</th>\n",
       "      <th>recall_avg</th>\n",
       "      <th>f1_avg</th>\n",
       "      <th>precision_negative</th>\n",
       "      <th>precision_positive</th>\n",
       "      <th>recall_negative</th>\n",
       "      <th>recall_positive</th>\n",
       "      <th>f1_negative</th>\n",
       "      <th>f1_positive</th>\n",
       "    </tr>\n",
       "  </thead>\n",
       "  <tbody>\n",
       "    <tr>\n",
       "      <th>0</th>\n",
       "      <td>run_8298151771_lstm_random</td>\n",
       "      <td>lstm</td>\n",
       "      <td>random</td>\n",
       "      <td>0</td>\n",
       "      <td>0.492882</td>\n",
       "      <td>0.495619</td>\n",
       "      <td>0.492882</td>\n",
       "      <td>0.475160</td>\n",
       "      <td>0.502587</td>\n",
       "      <td>0.488404</td>\n",
       "      <td>0.311927</td>\n",
       "      <td>0.680285</td>\n",
       "      <td>0.384942</td>\n",
       "      <td>0.568592</td>\n",
       "    </tr>\n",
       "    <tr>\n",
       "      <th>1</th>\n",
       "      <td>run_8298151771_lstm_random</td>\n",
       "      <td>lstm</td>\n",
       "      <td>random</td>\n",
       "      <td>100</td>\n",
       "      <td>0.584831</td>\n",
       "      <td>0.585438</td>\n",
       "      <td>0.584831</td>\n",
       "      <td>0.582375</td>\n",
       "      <td>0.581076</td>\n",
       "      <td>0.589956</td>\n",
       "      <td>0.659174</td>\n",
       "      <td>0.507838</td>\n",
       "      <td>0.617666</td>\n",
       "      <td>0.545826</td>\n",
       "    </tr>\n",
       "    <tr>\n",
       "      <th>2</th>\n",
       "      <td>run_8298151771_lstm_random</td>\n",
       "      <td>lstm</td>\n",
       "      <td>random</td>\n",
       "      <td>200</td>\n",
       "      <td>0.615869</td>\n",
       "      <td>0.618872</td>\n",
       "      <td>0.615869</td>\n",
       "      <td>0.614604</td>\n",
       "      <td>0.640971</td>\n",
       "      <td>0.595985</td>\n",
       "      <td>0.556881</td>\n",
       "      <td>0.676960</td>\n",
       "      <td>0.595974</td>\n",
       "      <td>0.633897</td>\n",
       "    </tr>\n",
       "    <tr>\n",
       "      <th>3</th>\n",
       "      <td>run_8298151771_lstm_random</td>\n",
       "      <td>lstm</td>\n",
       "      <td>random</td>\n",
       "      <td>300</td>\n",
       "      <td>0.613536</td>\n",
       "      <td>0.615219</td>\n",
       "      <td>0.613536</td>\n",
       "      <td>0.612981</td>\n",
       "      <td>0.632591</td>\n",
       "      <td>0.597228</td>\n",
       "      <td>0.573394</td>\n",
       "      <td>0.655107</td>\n",
       "      <td>0.601540</td>\n",
       "      <td>0.624830</td>\n",
       "    </tr>\n",
       "    <tr>\n",
       "      <th>4</th>\n",
       "      <td>run_8298151771_lstm_random</td>\n",
       "      <td>lstm</td>\n",
       "      <td>random</td>\n",
       "      <td>400</td>\n",
       "      <td>0.607468</td>\n",
       "      <td>0.609623</td>\n",
       "      <td>0.607468</td>\n",
       "      <td>0.603838</td>\n",
       "      <td>0.597494</td>\n",
       "      <td>0.622184</td>\n",
       "      <td>0.700000</td>\n",
       "      <td>0.511639</td>\n",
       "      <td>0.644698</td>\n",
       "      <td>0.561522</td>\n",
       "    </tr>\n",
       "    <tr>\n",
       "      <th>5</th>\n",
       "      <td>run_8298151771_lstm_random</td>\n",
       "      <td>lstm</td>\n",
       "      <td>random</td>\n",
       "      <td>500</td>\n",
       "      <td>0.633839</td>\n",
       "      <td>0.635749</td>\n",
       "      <td>0.633839</td>\n",
       "      <td>0.631454</td>\n",
       "      <td>0.622740</td>\n",
       "      <td>0.649220</td>\n",
       "      <td>0.711009</td>\n",
       "      <td>0.553919</td>\n",
       "      <td>0.663954</td>\n",
       "      <td>0.597795</td>\n",
       "    </tr>\n",
       "    <tr>\n",
       "      <th>6</th>\n",
       "      <td>run_8298151771_lstm_random</td>\n",
       "      <td>lstm</td>\n",
       "      <td>random</td>\n",
       "      <td>600</td>\n",
       "      <td>0.624504</td>\n",
       "      <td>0.624767</td>\n",
       "      <td>0.624504</td>\n",
       "      <td>0.624525</td>\n",
       "      <td>0.634480</td>\n",
       "      <td>0.614709</td>\n",
       "      <td>0.617890</td>\n",
       "      <td>0.631354</td>\n",
       "      <td>0.626075</td>\n",
       "      <td>0.622920</td>\n",
       "    </tr>\n",
       "    <tr>\n",
       "      <th>7</th>\n",
       "      <td>run_8298151771_lstm_random</td>\n",
       "      <td>lstm</td>\n",
       "      <td>random</td>\n",
       "      <td>700</td>\n",
       "      <td>0.630105</td>\n",
       "      <td>0.634199</td>\n",
       "      <td>0.630105</td>\n",
       "      <td>0.628439</td>\n",
       "      <td>0.660550</td>\n",
       "      <td>0.606908</td>\n",
       "      <td>0.561468</td>\n",
       "      <td>0.701188</td>\n",
       "      <td>0.606992</td>\n",
       "      <td>0.650650</td>\n",
       "    </tr>\n",
       "    <tr>\n",
       "      <th>8</th>\n",
       "      <td>run_8298151771_lstm_random</td>\n",
       "      <td>lstm</td>\n",
       "      <td>random</td>\n",
       "      <td>800</td>\n",
       "      <td>0.624737</td>\n",
       "      <td>0.628117</td>\n",
       "      <td>0.624737</td>\n",
       "      <td>0.620695</td>\n",
       "      <td>0.610596</td>\n",
       "      <td>0.646263</td>\n",
       "      <td>0.724312</td>\n",
       "      <td>0.521615</td>\n",
       "      <td>0.662610</td>\n",
       "      <td>0.577287</td>\n",
       "    </tr>\n",
       "    <tr>\n",
       "      <th>9</th>\n",
       "      <td>run_8298151771_lstm_random</td>\n",
       "      <td>lstm</td>\n",
       "      <td>random</td>\n",
       "      <td>900</td>\n",
       "      <td>0.635473</td>\n",
       "      <td>0.639656</td>\n",
       "      <td>0.635473</td>\n",
       "      <td>0.633842</td>\n",
       "      <td>0.666667</td>\n",
       "      <td>0.611682</td>\n",
       "      <td>0.566972</td>\n",
       "      <td>0.706413</td>\n",
       "      <td>0.612791</td>\n",
       "      <td>0.655644</td>\n",
       "    </tr>\n",
       "    <tr>\n",
       "      <th>10</th>\n",
       "      <td>run_8298151771_lstm_random</td>\n",
       "      <td>lstm</td>\n",
       "      <td>random</td>\n",
       "      <td>1000</td>\n",
       "      <td>0.649008</td>\n",
       "      <td>0.649495</td>\n",
       "      <td>0.649008</td>\n",
       "      <td>0.648990</td>\n",
       "      <td>0.661414</td>\n",
       "      <td>0.637152</td>\n",
       "      <td>0.635321</td>\n",
       "      <td>0.663183</td>\n",
       "      <td>0.648105</td>\n",
       "      <td>0.649907</td>\n",
       "    </tr>\n",
       "    <tr>\n",
       "      <th>11</th>\n",
       "      <td>run_8298151275_lstm_random</td>\n",
       "      <td>lstm</td>\n",
       "      <td>random</td>\n",
       "      <td>2000</td>\n",
       "      <td>0.675613</td>\n",
       "      <td>0.675791</td>\n",
       "      <td>0.675613</td>\n",
       "      <td>0.675637</td>\n",
       "      <td>0.684752</td>\n",
       "      <td>0.666511</td>\n",
       "      <td>0.671560</td>\n",
       "      <td>0.679810</td>\n",
       "      <td>0.678092</td>\n",
       "      <td>0.673095</td>\n",
       "    </tr>\n",
       "    <tr>\n",
       "      <th>12</th>\n",
       "      <td>run_8298151275_lstm_random</td>\n",
       "      <td>lstm</td>\n",
       "      <td>random</td>\n",
       "      <td>3000</td>\n",
       "      <td>0.686814</td>\n",
       "      <td>0.687609</td>\n",
       "      <td>0.686814</td>\n",
       "      <td>0.686073</td>\n",
       "      <td>0.677995</td>\n",
       "      <td>0.697566</td>\n",
       "      <td>0.732110</td>\n",
       "      <td>0.639905</td>\n",
       "      <td>0.704014</td>\n",
       "      <td>0.667493</td>\n",
       "    </tr>\n",
       "    <tr>\n",
       "      <th>13</th>\n",
       "      <td>run_8298151275_lstm_random</td>\n",
       "      <td>lstm</td>\n",
       "      <td>random</td>\n",
       "      <td>4000</td>\n",
       "      <td>0.680280</td>\n",
       "      <td>0.680777</td>\n",
       "      <td>0.680280</td>\n",
       "      <td>0.680267</td>\n",
       "      <td>0.693225</td>\n",
       "      <td>0.667885</td>\n",
       "      <td>0.666514</td>\n",
       "      <td>0.694537</td>\n",
       "      <td>0.679607</td>\n",
       "      <td>0.680950</td>\n",
       "    </tr>\n",
       "    <tr>\n",
       "      <th>14</th>\n",
       "      <td>run_8298151275_lstm_random</td>\n",
       "      <td>lstm</td>\n",
       "      <td>random</td>\n",
       "      <td>5000</td>\n",
       "      <td>0.688215</td>\n",
       "      <td>0.688419</td>\n",
       "      <td>0.688215</td>\n",
       "      <td>0.688237</td>\n",
       "      <td>0.697751</td>\n",
       "      <td>0.678754</td>\n",
       "      <td>0.683028</td>\n",
       "      <td>0.693587</td>\n",
       "      <td>0.690311</td>\n",
       "      <td>0.686090</td>\n",
       "    </tr>\n",
       "    <tr>\n",
       "      <th>15</th>\n",
       "      <td>run_8298151275_lstm_random</td>\n",
       "      <td>lstm</td>\n",
       "      <td>random</td>\n",
       "      <td>6000</td>\n",
       "      <td>0.684247</td>\n",
       "      <td>0.685076</td>\n",
       "      <td>0.684247</td>\n",
       "      <td>0.684168</td>\n",
       "      <td>0.700242</td>\n",
       "      <td>0.669369</td>\n",
       "      <td>0.663303</td>\n",
       "      <td>0.705938</td>\n",
       "      <td>0.681272</td>\n",
       "      <td>0.687168</td>\n",
       "    </tr>\n",
       "    <tr>\n",
       "      <th>16</th>\n",
       "      <td>run_8298151275_lstm_random</td>\n",
       "      <td>lstm</td>\n",
       "      <td>random</td>\n",
       "      <td>7000</td>\n",
       "      <td>0.690782</td>\n",
       "      <td>0.690917</td>\n",
       "      <td>0.690782</td>\n",
       "      <td>0.690509</td>\n",
       "      <td>0.687912</td>\n",
       "      <td>0.694030</td>\n",
       "      <td>0.717890</td>\n",
       "      <td>0.662708</td>\n",
       "      <td>0.702581</td>\n",
       "      <td>0.678007</td>\n",
       "    </tr>\n",
       "    <tr>\n",
       "      <th>17</th>\n",
       "      <td>run_8298151275_lstm_random</td>\n",
       "      <td>lstm</td>\n",
       "      <td>random</td>\n",
       "      <td>8000</td>\n",
       "      <td>0.706184</td>\n",
       "      <td>0.709352</td>\n",
       "      <td>0.706184</td>\n",
       "      <td>0.705556</td>\n",
       "      <td>0.737249</td>\n",
       "      <td>0.680461</td>\n",
       "      <td>0.656422</td>\n",
       "      <td>0.757720</td>\n",
       "      <td>0.694492</td>\n",
       "      <td>0.717015</td>\n",
       "    </tr>\n",
       "    <tr>\n",
       "      <th>18</th>\n",
       "      <td>run_8298151275_lstm_random</td>\n",
       "      <td>lstm</td>\n",
       "      <td>random</td>\n",
       "      <td>9000</td>\n",
       "      <td>0.699417</td>\n",
       "      <td>0.699382</td>\n",
       "      <td>0.699417</td>\n",
       "      <td>0.699369</td>\n",
       "      <td>0.701993</td>\n",
       "      <td>0.696678</td>\n",
       "      <td>0.711009</td>\n",
       "      <td>0.687411</td>\n",
       "      <td>0.706472</td>\n",
       "      <td>0.692013</td>\n",
       "    </tr>\n",
       "    <tr>\n",
       "      <th>19</th>\n",
       "      <td>run_8298151275_lstm_random</td>\n",
       "      <td>lstm</td>\n",
       "      <td>random</td>\n",
       "      <td>10000</td>\n",
       "      <td>0.696383</td>\n",
       "      <td>0.696353</td>\n",
       "      <td>0.696383</td>\n",
       "      <td>0.696304</td>\n",
       "      <td>0.697884</td>\n",
       "      <td>0.694767</td>\n",
       "      <td>0.711009</td>\n",
       "      <td>0.681235</td>\n",
       "      <td>0.704385</td>\n",
       "      <td>0.687935</td>\n",
       "    </tr>\n",
       "    <tr>\n",
       "      <th>20</th>\n",
       "      <td>run_8298156881_lstm_uncertainty</td>\n",
       "      <td>lstm</td>\n",
       "      <td>uncertainty</td>\n",
       "      <td>0</td>\n",
       "      <td>0.522054</td>\n",
       "      <td>0.524386</td>\n",
       "      <td>0.522054</td>\n",
       "      <td>0.518801</td>\n",
       "      <td>0.536913</td>\n",
       "      <td>0.511414</td>\n",
       "      <td>0.440367</td>\n",
       "      <td>0.606651</td>\n",
       "      <td>0.483871</td>\n",
       "      <td>0.554976</td>\n",
       "    </tr>\n",
       "    <tr>\n",
       "      <th>21</th>\n",
       "      <td>run_8298156881_lstm_uncertainty</td>\n",
       "      <td>lstm</td>\n",
       "      <td>uncertainty</td>\n",
       "      <td>100</td>\n",
       "      <td>0.570828</td>\n",
       "      <td>0.571361</td>\n",
       "      <td>0.570828</td>\n",
       "      <td>0.567694</td>\n",
       "      <td>0.567955</td>\n",
       "      <td>0.574887</td>\n",
       "      <td>0.653670</td>\n",
       "      <td>0.485036</td>\n",
       "      <td>0.607806</td>\n",
       "      <td>0.526153</td>\n",
       "    </tr>\n",
       "    <tr>\n",
       "      <th>22</th>\n",
       "      <td>run_8298156881_lstm_uncertainty</td>\n",
       "      <td>lstm</td>\n",
       "      <td>uncertainty</td>\n",
       "      <td>200</td>\n",
       "      <td>0.585998</td>\n",
       "      <td>0.602647</td>\n",
       "      <td>0.585998</td>\n",
       "      <td>0.572680</td>\n",
       "      <td>0.646676</td>\n",
       "      <td>0.557049</td>\n",
       "      <td>0.410550</td>\n",
       "      <td>0.767696</td>\n",
       "      <td>0.502245</td>\n",
       "      <td>0.645625</td>\n",
       "    </tr>\n",
       "    <tr>\n",
       "      <th>23</th>\n",
       "      <td>run_8298156881_lstm_uncertainty</td>\n",
       "      <td>lstm</td>\n",
       "      <td>uncertainty</td>\n",
       "      <td>300</td>\n",
       "      <td>0.612602</td>\n",
       "      <td>0.612636</td>\n",
       "      <td>0.612602</td>\n",
       "      <td>0.612616</td>\n",
       "      <td>0.619816</td>\n",
       "      <td>0.605201</td>\n",
       "      <td>0.616972</td>\n",
       "      <td>0.608076</td>\n",
       "      <td>0.618391</td>\n",
       "      <td>0.606635</td>\n",
       "    </tr>\n",
       "    <tr>\n",
       "      <th>24</th>\n",
       "      <td>run_8298156881_lstm_uncertainty</td>\n",
       "      <td>lstm</td>\n",
       "      <td>uncertainty</td>\n",
       "      <td>400</td>\n",
       "      <td>0.613769</td>\n",
       "      <td>0.614496</td>\n",
       "      <td>0.613769</td>\n",
       "      <td>0.613659</td>\n",
       "      <td>0.627365</td>\n",
       "      <td>0.601169</td>\n",
       "      <td>0.593119</td>\n",
       "      <td>0.635154</td>\n",
       "      <td>0.609762</td>\n",
       "      <td>0.617695</td>\n",
       "    </tr>\n",
       "    <tr>\n",
       "      <th>25</th>\n",
       "      <td>run_8298156881_lstm_uncertainty</td>\n",
       "      <td>lstm</td>\n",
       "      <td>uncertainty</td>\n",
       "      <td>500</td>\n",
       "      <td>0.637806</td>\n",
       "      <td>0.642622</td>\n",
       "      <td>0.637806</td>\n",
       "      <td>0.635900</td>\n",
       "      <td>0.671585</td>\n",
       "      <td>0.612627</td>\n",
       "      <td>0.563761</td>\n",
       "      <td>0.714489</td>\n",
       "      <td>0.612968</td>\n",
       "      <td>0.659649</td>\n",
       "    </tr>\n",
       "    <tr>\n",
       "      <th>26</th>\n",
       "      <td>run_8298156881_lstm_uncertainty</td>\n",
       "      <td>lstm</td>\n",
       "      <td>uncertainty</td>\n",
       "      <td>600</td>\n",
       "      <td>0.645041</td>\n",
       "      <td>0.647289</td>\n",
       "      <td>0.645041</td>\n",
       "      <td>0.642674</td>\n",
       "      <td>0.632170</td>\n",
       "      <td>0.662946</td>\n",
       "      <td>0.722936</td>\n",
       "      <td>0.564371</td>\n",
       "      <td>0.674513</td>\n",
       "      <td>0.609700</td>\n",
       "    </tr>\n",
       "    <tr>\n",
       "      <th>27</th>\n",
       "      <td>run_8298156881_lstm_uncertainty</td>\n",
       "      <td>lstm</td>\n",
       "      <td>uncertainty</td>\n",
       "      <td>700</td>\n",
       "      <td>0.645741</td>\n",
       "      <td>0.648070</td>\n",
       "      <td>0.645741</td>\n",
       "      <td>0.645067</td>\n",
       "      <td>0.669570</td>\n",
       "      <td>0.625804</td>\n",
       "      <td>0.599541</td>\n",
       "      <td>0.693587</td>\n",
       "      <td>0.632623</td>\n",
       "      <td>0.657954</td>\n",
       "    </tr>\n",
       "    <tr>\n",
       "      <th>28</th>\n",
       "      <td>run_8298156881_lstm_uncertainty</td>\n",
       "      <td>lstm</td>\n",
       "      <td>uncertainty</td>\n",
       "      <td>800</td>\n",
       "      <td>0.637106</td>\n",
       "      <td>0.651348</td>\n",
       "      <td>0.637106</td>\n",
       "      <td>0.630389</td>\n",
       "      <td>0.699936</td>\n",
       "      <td>0.601029</td>\n",
       "      <td>0.501835</td>\n",
       "      <td>0.777197</td>\n",
       "      <td>0.584558</td>\n",
       "      <td>0.677854</td>\n",
       "    </tr>\n",
       "    <tr>\n",
       "      <th>29</th>\n",
       "      <td>run_8298156881_lstm_uncertainty</td>\n",
       "      <td>lstm</td>\n",
       "      <td>uncertainty</td>\n",
       "      <td>900</td>\n",
       "      <td>0.648308</td>\n",
       "      <td>0.648514</td>\n",
       "      <td>0.648308</td>\n",
       "      <td>0.648333</td>\n",
       "      <td>0.657759</td>\n",
       "      <td>0.638941</td>\n",
       "      <td>0.643578</td>\n",
       "      <td>0.653207</td>\n",
       "      <td>0.650591</td>\n",
       "      <td>0.645995</td>\n",
       "    </tr>\n",
       "    <tr>\n",
       "      <th>30</th>\n",
       "      <td>run_8298156881_lstm_uncertainty</td>\n",
       "      <td>lstm</td>\n",
       "      <td>uncertainty</td>\n",
       "      <td>1000</td>\n",
       "      <td>0.649008</td>\n",
       "      <td>0.653130</td>\n",
       "      <td>0.649008</td>\n",
       "      <td>0.647590</td>\n",
       "      <td>0.680942</td>\n",
       "      <td>0.624328</td>\n",
       "      <td>0.583486</td>\n",
       "      <td>0.716865</td>\n",
       "      <td>0.628458</td>\n",
       "      <td>0.667404</td>\n",
       "    </tr>\n",
       "    <tr>\n",
       "      <th>31</th>\n",
       "      <td>run_8298155549_lstm_uncertainty</td>\n",
       "      <td>lstm</td>\n",
       "      <td>uncertainty</td>\n",
       "      <td>2000</td>\n",
       "      <td>0.675613</td>\n",
       "      <td>0.677649</td>\n",
       "      <td>0.675613</td>\n",
       "      <td>0.675182</td>\n",
       "      <td>0.699294</td>\n",
       "      <td>0.655232</td>\n",
       "      <td>0.635780</td>\n",
       "      <td>0.716865</td>\n",
       "      <td>0.666026</td>\n",
       "      <td>0.684664</td>\n",
       "    </tr>\n",
       "    <tr>\n",
       "      <th>32</th>\n",
       "      <td>run_8298155549_lstm_uncertainty</td>\n",
       "      <td>lstm</td>\n",
       "      <td>uncertainty</td>\n",
       "      <td>3000</td>\n",
       "      <td>0.678180</td>\n",
       "      <td>0.679795</td>\n",
       "      <td>0.678180</td>\n",
       "      <td>0.676857</td>\n",
       "      <td>0.665564</td>\n",
       "      <td>0.694534</td>\n",
       "      <td>0.738532</td>\n",
       "      <td>0.615677</td>\n",
       "      <td>0.700152</td>\n",
       "      <td>0.652732</td>\n",
       "    </tr>\n",
       "    <tr>\n",
       "      <th>33</th>\n",
       "      <td>run_8298155549_lstm_uncertainty</td>\n",
       "      <td>lstm</td>\n",
       "      <td>uncertainty</td>\n",
       "      <td>4000</td>\n",
       "      <td>0.684714</td>\n",
       "      <td>0.686291</td>\n",
       "      <td>0.684714</td>\n",
       "      <td>0.683494</td>\n",
       "      <td>0.671920</td>\n",
       "      <td>0.701174</td>\n",
       "      <td>0.743119</td>\n",
       "      <td>0.624228</td>\n",
       "      <td>0.705729</td>\n",
       "      <td>0.660467</td>\n",
       "    </tr>\n",
       "    <tr>\n",
       "      <th>34</th>\n",
       "      <td>run_8298155549_lstm_uncertainty</td>\n",
       "      <td>lstm</td>\n",
       "      <td>uncertainty</td>\n",
       "      <td>5000</td>\n",
       "      <td>0.704784</td>\n",
       "      <td>0.705200</td>\n",
       "      <td>0.704784</td>\n",
       "      <td>0.704371</td>\n",
       "      <td>0.698309</td>\n",
       "      <td>0.712336</td>\n",
       "      <td>0.738991</td>\n",
       "      <td>0.669359</td>\n",
       "      <td>0.718074</td>\n",
       "      <td>0.690179</td>\n",
       "    </tr>\n",
       "    <tr>\n",
       "      <th>35</th>\n",
       "      <td>run_8298155549_lstm_uncertainty</td>\n",
       "      <td>lstm</td>\n",
       "      <td>uncertainty</td>\n",
       "      <td>6000</td>\n",
       "      <td>0.712252</td>\n",
       "      <td>0.712225</td>\n",
       "      <td>0.712252</td>\n",
       "      <td>0.712228</td>\n",
       "      <td>0.715521</td>\n",
       "      <td>0.708812</td>\n",
       "      <td>0.721101</td>\n",
       "      <td>0.703088</td>\n",
       "      <td>0.718300</td>\n",
       "      <td>0.705938</td>\n",
       "    </tr>\n",
       "    <tr>\n",
       "      <th>36</th>\n",
       "      <td>run_8298155549_lstm_uncertainty</td>\n",
       "      <td>lstm</td>\n",
       "      <td>uncertainty</td>\n",
       "      <td>7000</td>\n",
       "      <td>0.704317</td>\n",
       "      <td>0.705321</td>\n",
       "      <td>0.704317</td>\n",
       "      <td>0.703583</td>\n",
       "      <td>0.693514</td>\n",
       "      <td>0.717549</td>\n",
       "      <td>0.750459</td>\n",
       "      <td>0.656532</td>\n",
       "      <td>0.720864</td>\n",
       "      <td>0.685686</td>\n",
       "    </tr>\n",
       "    <tr>\n",
       "      <th>37</th>\n",
       "      <td>run_8298155549_lstm_uncertainty</td>\n",
       "      <td>lstm</td>\n",
       "      <td>uncertainty</td>\n",
       "      <td>8000</td>\n",
       "      <td>0.715053</td>\n",
       "      <td>0.716967</td>\n",
       "      <td>0.715053</td>\n",
       "      <td>0.713983</td>\n",
       "      <td>0.699211</td>\n",
       "      <td>0.735357</td>\n",
       "      <td>0.772018</td>\n",
       "      <td>0.656057</td>\n",
       "      <td>0.733813</td>\n",
       "      <td>0.693447</td>\n",
       "    </tr>\n",
       "    <tr>\n",
       "      <th>38</th>\n",
       "      <td>run_8298155549_lstm_uncertainty</td>\n",
       "      <td>lstm</td>\n",
       "      <td>uncertainty</td>\n",
       "      <td>9000</td>\n",
       "      <td>0.719720</td>\n",
       "      <td>0.720997</td>\n",
       "      <td>0.719720</td>\n",
       "      <td>0.719578</td>\n",
       "      <td>0.740069</td>\n",
       "      <td>0.701247</td>\n",
       "      <td>0.692202</td>\n",
       "      <td>0.748219</td>\n",
       "      <td>0.715335</td>\n",
       "      <td>0.723972</td>\n",
       "    </tr>\n",
       "    <tr>\n",
       "      <th>39</th>\n",
       "      <td>run_8298155549_lstm_uncertainty</td>\n",
       "      <td>lstm</td>\n",
       "      <td>uncertainty</td>\n",
       "      <td>10000</td>\n",
       "      <td>0.728821</td>\n",
       "      <td>0.728842</td>\n",
       "      <td>0.728821</td>\n",
       "      <td>0.728829</td>\n",
       "      <td>0.734346</td>\n",
       "      <td>0.723142</td>\n",
       "      <td>0.731651</td>\n",
       "      <td>0.725891</td>\n",
       "      <td>0.732996</td>\n",
       "      <td>0.724514</td>\n",
       "    </tr>\n",
       "    <tr>\n",
       "      <th>40</th>\n",
       "      <td>run_8298122661_ensemble_comitee</td>\n",
       "      <td>lstm</td>\n",
       "      <td>comitee</td>\n",
       "      <td>0</td>\n",
       "      <td>0.480747</td>\n",
       "      <td>0.478841</td>\n",
       "      <td>0.480747</td>\n",
       "      <td>0.476954</td>\n",
       "      <td>0.491032</td>\n",
       "      <td>0.466216</td>\n",
       "      <td>0.565138</td>\n",
       "      <td>0.393349</td>\n",
       "      <td>0.525485</td>\n",
       "      <td>0.426694</td>\n",
       "    </tr>\n",
       "    <tr>\n",
       "      <th>41</th>\n",
       "      <td>run_8298122661_ensemble_comitee</td>\n",
       "      <td>lstm</td>\n",
       "      <td>comitee</td>\n",
       "      <td>100</td>\n",
       "      <td>0.585998</td>\n",
       "      <td>0.606623</td>\n",
       "      <td>0.585998</td>\n",
       "      <td>0.559596</td>\n",
       "      <td>0.563636</td>\n",
       "      <td>0.651142</td>\n",
       "      <td>0.824771</td>\n",
       "      <td>0.338717</td>\n",
       "      <td>0.669646</td>\n",
       "      <td>0.445625</td>\n",
       "    </tr>\n",
       "    <tr>\n",
       "      <th>42</th>\n",
       "      <td>run_8298122661_ensemble_comitee</td>\n",
       "      <td>lstm</td>\n",
       "      <td>comitee</td>\n",
       "      <td>200</td>\n",
       "      <td>0.608168</td>\n",
       "      <td>0.610783</td>\n",
       "      <td>0.608168</td>\n",
       "      <td>0.604044</td>\n",
       "      <td>0.597055</td>\n",
       "      <td>0.625000</td>\n",
       "      <td>0.706881</td>\n",
       "      <td>0.505938</td>\n",
       "      <td>0.647343</td>\n",
       "      <td>0.559202</td>\n",
       "    </tr>\n",
       "    <tr>\n",
       "      <th>43</th>\n",
       "      <td>run_8298122661_ensemble_comitee</td>\n",
       "      <td>lstm</td>\n",
       "      <td>comitee</td>\n",
       "      <td>300</td>\n",
       "      <td>0.620537</td>\n",
       "      <td>0.621461</td>\n",
       "      <td>0.620537</td>\n",
       "      <td>0.618799</td>\n",
       "      <td>0.613804</td>\n",
       "      <td>0.629390</td>\n",
       "      <td>0.685321</td>\n",
       "      <td>0.553444</td>\n",
       "      <td>0.647594</td>\n",
       "      <td>0.588979</td>\n",
       "    </tr>\n",
       "    <tr>\n",
       "      <th>44</th>\n",
       "      <td>run_8298122661_ensemble_comitee</td>\n",
       "      <td>lstm</td>\n",
       "      <td>comitee</td>\n",
       "      <td>400</td>\n",
       "      <td>0.629638</td>\n",
       "      <td>0.629686</td>\n",
       "      <td>0.629638</td>\n",
       "      <td>0.629159</td>\n",
       "      <td>0.628857</td>\n",
       "      <td>0.630544</td>\n",
       "      <td>0.663761</td>\n",
       "      <td>0.594299</td>\n",
       "      <td>0.645838</td>\n",
       "      <td>0.611886</td>\n",
       "    </tr>\n",
       "    <tr>\n",
       "      <th>45</th>\n",
       "      <td>run_8298122661_ensemble_comitee</td>\n",
       "      <td>lstm</td>\n",
       "      <td>comitee</td>\n",
       "      <td>500</td>\n",
       "      <td>0.633139</td>\n",
       "      <td>0.633430</td>\n",
       "      <td>0.633139</td>\n",
       "      <td>0.632353</td>\n",
       "      <td>0.629693</td>\n",
       "      <td>0.637300</td>\n",
       "      <td>0.677064</td>\n",
       "      <td>0.587648</td>\n",
       "      <td>0.652520</td>\n",
       "      <td>0.611468</td>\n",
       "    </tr>\n",
       "    <tr>\n",
       "      <th>46</th>\n",
       "      <td>run_8298122661_ensemble_comitee</td>\n",
       "      <td>lstm</td>\n",
       "      <td>comitee</td>\n",
       "      <td>600</td>\n",
       "      <td>0.631272</td>\n",
       "      <td>0.632279</td>\n",
       "      <td>0.631272</td>\n",
       "      <td>0.631081</td>\n",
       "      <td>0.647203</td>\n",
       "      <td>0.616822</td>\n",
       "      <td>0.605046</td>\n",
       "      <td>0.658432</td>\n",
       "      <td>0.625415</td>\n",
       "      <td>0.636949</td>\n",
       "    </tr>\n",
       "    <tr>\n",
       "      <th>47</th>\n",
       "      <td>run_8298122661_ensemble_comitee</td>\n",
       "      <td>lstm</td>\n",
       "      <td>comitee</td>\n",
       "      <td>700</td>\n",
       "      <td>0.645274</td>\n",
       "      <td>0.646771</td>\n",
       "      <td>0.645274</td>\n",
       "      <td>0.644931</td>\n",
       "      <td>0.664671</td>\n",
       "      <td>0.628233</td>\n",
       "      <td>0.611009</td>\n",
       "      <td>0.680760</td>\n",
       "      <td>0.636711</td>\n",
       "      <td>0.653443</td>\n",
       "    </tr>\n",
       "    <tr>\n",
       "      <th>48</th>\n",
       "      <td>run_8298122661_ensemble_comitee</td>\n",
       "      <td>lstm</td>\n",
       "      <td>comitee</td>\n",
       "      <td>800</td>\n",
       "      <td>0.646908</td>\n",
       "      <td>0.647127</td>\n",
       "      <td>0.646908</td>\n",
       "      <td>0.646334</td>\n",
       "      <td>0.643812</td>\n",
       "      <td>0.650560</td>\n",
       "      <td>0.684862</td>\n",
       "      <td>0.607601</td>\n",
       "      <td>0.663703</td>\n",
       "      <td>0.628347</td>\n",
       "    </tr>\n",
       "    <tr>\n",
       "      <th>49</th>\n",
       "      <td>run_8298122661_ensemble_comitee</td>\n",
       "      <td>lstm</td>\n",
       "      <td>comitee</td>\n",
       "      <td>900</td>\n",
       "      <td>0.636873</td>\n",
       "      <td>0.637212</td>\n",
       "      <td>0.636873</td>\n",
       "      <td>0.636882</td>\n",
       "      <td>0.647727</td>\n",
       "      <td>0.626323</td>\n",
       "      <td>0.627523</td>\n",
       "      <td>0.646556</td>\n",
       "      <td>0.637465</td>\n",
       "      <td>0.636279</td>\n",
       "    </tr>\n",
       "    <tr>\n",
       "      <th>50</th>\n",
       "      <td>run_8298122661_ensemble_comitee</td>\n",
       "      <td>lstm</td>\n",
       "      <td>comitee</td>\n",
       "      <td>1000</td>\n",
       "      <td>0.646908</td>\n",
       "      <td>0.649166</td>\n",
       "      <td>0.646908</td>\n",
       "      <td>0.644580</td>\n",
       "      <td>0.633882</td>\n",
       "      <td>0.664994</td>\n",
       "      <td>0.724312</td>\n",
       "      <td>0.566746</td>\n",
       "      <td>0.676086</td>\n",
       "      <td>0.611952</td>\n",
       "    </tr>\n",
       "    <tr>\n",
       "      <th>51</th>\n",
       "      <td>run_8298119734_ensemble_comitee</td>\n",
       "      <td>lstm</td>\n",
       "      <td>comitee</td>\n",
       "      <td>2000</td>\n",
       "      <td>0.675146</td>\n",
       "      <td>0.676867</td>\n",
       "      <td>0.675146</td>\n",
       "      <td>0.674811</td>\n",
       "      <td>0.697000</td>\n",
       "      <td>0.656018</td>\n",
       "      <td>0.639450</td>\n",
       "      <td>0.712114</td>\n",
       "      <td>0.666986</td>\n",
       "      <td>0.682916</td>\n",
       "    </tr>\n",
       "    <tr>\n",
       "      <th>52</th>\n",
       "      <td>run_8298119734_ensemble_comitee</td>\n",
       "      <td>lstm</td>\n",
       "      <td>comitee</td>\n",
       "      <td>3000</td>\n",
       "      <td>0.684947</td>\n",
       "      <td>0.685572</td>\n",
       "      <td>0.684947</td>\n",
       "      <td>0.684300</td>\n",
       "      <td>0.677350</td>\n",
       "      <td>0.694087</td>\n",
       "      <td>0.727064</td>\n",
       "      <td>0.641330</td>\n",
       "      <td>0.701327</td>\n",
       "      <td>0.666667</td>\n",
       "    </tr>\n",
       "    <tr>\n",
       "      <th>53</th>\n",
       "      <td>run_8298119734_ensemble_comitee</td>\n",
       "      <td>lstm</td>\n",
       "      <td>comitee</td>\n",
       "      <td>4000</td>\n",
       "      <td>0.686581</td>\n",
       "      <td>0.686676</td>\n",
       "      <td>0.686581</td>\n",
       "      <td>0.686332</td>\n",
       "      <td>0.684442</td>\n",
       "      <td>0.688988</td>\n",
       "      <td>0.712385</td>\n",
       "      <td>0.659857</td>\n",
       "      <td>0.698134</td>\n",
       "      <td>0.674108</td>\n",
       "    </tr>\n",
       "    <tr>\n",
       "      <th>54</th>\n",
       "      <td>run_8298119734_ensemble_comitee</td>\n",
       "      <td>lstm</td>\n",
       "      <td>comitee</td>\n",
       "      <td>5000</td>\n",
       "      <td>0.701284</td>\n",
       "      <td>0.703007</td>\n",
       "      <td>0.701284</td>\n",
       "      <td>0.701012</td>\n",
       "      <td>0.724104</td>\n",
       "      <td>0.681159</td>\n",
       "      <td>0.666972</td>\n",
       "      <td>0.736817</td>\n",
       "      <td>0.694365</td>\n",
       "      <td>0.707896</td>\n",
       "    </tr>\n",
       "    <tr>\n",
       "      <th>55</th>\n",
       "      <td>run_8298119734_ensemble_comitee</td>\n",
       "      <td>lstm</td>\n",
       "      <td>comitee</td>\n",
       "      <td>6000</td>\n",
       "      <td>0.684247</td>\n",
       "      <td>0.684227</td>\n",
       "      <td>0.684247</td>\n",
       "      <td>0.684234</td>\n",
       "      <td>0.688899</td>\n",
       "      <td>0.679389</td>\n",
       "      <td>0.691743</td>\n",
       "      <td>0.676485</td>\n",
       "      <td>0.690318</td>\n",
       "      <td>0.677934</td>\n",
       "    </tr>\n",
       "    <tr>\n",
       "      <th>56</th>\n",
       "      <td>run_8298119734_ensemble_comitee</td>\n",
       "      <td>lstm</td>\n",
       "      <td>comitee</td>\n",
       "      <td>7000</td>\n",
       "      <td>0.688681</td>\n",
       "      <td>0.688642</td>\n",
       "      <td>0.688681</td>\n",
       "      <td>0.688623</td>\n",
       "      <td>0.691230</td>\n",
       "      <td>0.685962</td>\n",
       "      <td>0.701376</td>\n",
       "      <td>0.675534</td>\n",
       "      <td>0.696266</td>\n",
       "      <td>0.680708</td>\n",
       "    </tr>\n",
       "    <tr>\n",
       "      <th>57</th>\n",
       "      <td>run_8298119734_ensemble_comitee</td>\n",
       "      <td>lstm</td>\n",
       "      <td>comitee</td>\n",
       "      <td>8000</td>\n",
       "      <td>0.695683</td>\n",
       "      <td>0.695969</td>\n",
       "      <td>0.695683</td>\n",
       "      <td>0.695315</td>\n",
       "      <td>0.690767</td>\n",
       "      <td>0.701357</td>\n",
       "      <td>0.727523</td>\n",
       "      <td>0.662708</td>\n",
       "      <td>0.708668</td>\n",
       "      <td>0.681485</td>\n",
       "    </tr>\n",
       "    <tr>\n",
       "      <th>58</th>\n",
       "      <td>run_8298119734_ensemble_comitee</td>\n",
       "      <td>lstm</td>\n",
       "      <td>comitee</td>\n",
       "      <td>9000</td>\n",
       "      <td>0.701284</td>\n",
       "      <td>0.702458</td>\n",
       "      <td>0.701284</td>\n",
       "      <td>0.701142</td>\n",
       "      <td>0.720372</td>\n",
       "      <td>0.683905</td>\n",
       "      <td>0.674771</td>\n",
       "      <td>0.728741</td>\n",
       "      <td>0.696826</td>\n",
       "      <td>0.705612</td>\n",
       "    </tr>\n",
       "    <tr>\n",
       "      <th>59</th>\n",
       "      <td>run_8298119734_ensemble_comitee</td>\n",
       "      <td>lstm</td>\n",
       "      <td>comitee</td>\n",
       "      <td>10000</td>\n",
       "      <td>0.704947</td>\n",
       "      <td>0.697164</td>\n",
       "      <td>0.696849</td>\n",
       "      <td>0.696468</td>\n",
       "      <td>0.691605</td>\n",
       "      <td>0.702920</td>\n",
       "      <td>0.729358</td>\n",
       "      <td>0.663183</td>\n",
       "      <td>0.709980</td>\n",
       "      <td>0.682474</td>\n",
       "    </tr>\n",
       "  </tbody>\n",
       "</table>\n",
       "</div>"
      ],
      "text/plain": [
       "                           run_name model active_learning_strategy  \\\n",
       "0        run_8298151771_lstm_random  lstm                   random   \n",
       "1        run_8298151771_lstm_random  lstm                   random   \n",
       "2        run_8298151771_lstm_random  lstm                   random   \n",
       "3        run_8298151771_lstm_random  lstm                   random   \n",
       "4        run_8298151771_lstm_random  lstm                   random   \n",
       "5        run_8298151771_lstm_random  lstm                   random   \n",
       "6        run_8298151771_lstm_random  lstm                   random   \n",
       "7        run_8298151771_lstm_random  lstm                   random   \n",
       "8        run_8298151771_lstm_random  lstm                   random   \n",
       "9        run_8298151771_lstm_random  lstm                   random   \n",
       "10       run_8298151771_lstm_random  lstm                   random   \n",
       "11       run_8298151275_lstm_random  lstm                   random   \n",
       "12       run_8298151275_lstm_random  lstm                   random   \n",
       "13       run_8298151275_lstm_random  lstm                   random   \n",
       "14       run_8298151275_lstm_random  lstm                   random   \n",
       "15       run_8298151275_lstm_random  lstm                   random   \n",
       "16       run_8298151275_lstm_random  lstm                   random   \n",
       "17       run_8298151275_lstm_random  lstm                   random   \n",
       "18       run_8298151275_lstm_random  lstm                   random   \n",
       "19       run_8298151275_lstm_random  lstm                   random   \n",
       "20  run_8298156881_lstm_uncertainty  lstm              uncertainty   \n",
       "21  run_8298156881_lstm_uncertainty  lstm              uncertainty   \n",
       "22  run_8298156881_lstm_uncertainty  lstm              uncertainty   \n",
       "23  run_8298156881_lstm_uncertainty  lstm              uncertainty   \n",
       "24  run_8298156881_lstm_uncertainty  lstm              uncertainty   \n",
       "25  run_8298156881_lstm_uncertainty  lstm              uncertainty   \n",
       "26  run_8298156881_lstm_uncertainty  lstm              uncertainty   \n",
       "27  run_8298156881_lstm_uncertainty  lstm              uncertainty   \n",
       "28  run_8298156881_lstm_uncertainty  lstm              uncertainty   \n",
       "29  run_8298156881_lstm_uncertainty  lstm              uncertainty   \n",
       "30  run_8298156881_lstm_uncertainty  lstm              uncertainty   \n",
       "31  run_8298155549_lstm_uncertainty  lstm              uncertainty   \n",
       "32  run_8298155549_lstm_uncertainty  lstm              uncertainty   \n",
       "33  run_8298155549_lstm_uncertainty  lstm              uncertainty   \n",
       "34  run_8298155549_lstm_uncertainty  lstm              uncertainty   \n",
       "35  run_8298155549_lstm_uncertainty  lstm              uncertainty   \n",
       "36  run_8298155549_lstm_uncertainty  lstm              uncertainty   \n",
       "37  run_8298155549_lstm_uncertainty  lstm              uncertainty   \n",
       "38  run_8298155549_lstm_uncertainty  lstm              uncertainty   \n",
       "39  run_8298155549_lstm_uncertainty  lstm              uncertainty   \n",
       "40  run_8298122661_ensemble_comitee  lstm                  comitee   \n",
       "41  run_8298122661_ensemble_comitee  lstm                  comitee   \n",
       "42  run_8298122661_ensemble_comitee  lstm                  comitee   \n",
       "43  run_8298122661_ensemble_comitee  lstm                  comitee   \n",
       "44  run_8298122661_ensemble_comitee  lstm                  comitee   \n",
       "45  run_8298122661_ensemble_comitee  lstm                  comitee   \n",
       "46  run_8298122661_ensemble_comitee  lstm                  comitee   \n",
       "47  run_8298122661_ensemble_comitee  lstm                  comitee   \n",
       "48  run_8298122661_ensemble_comitee  lstm                  comitee   \n",
       "49  run_8298122661_ensemble_comitee  lstm                  comitee   \n",
       "50  run_8298122661_ensemble_comitee  lstm                  comitee   \n",
       "51  run_8298119734_ensemble_comitee  lstm                  comitee   \n",
       "52  run_8298119734_ensemble_comitee  lstm                  comitee   \n",
       "53  run_8298119734_ensemble_comitee  lstm                  comitee   \n",
       "54  run_8298119734_ensemble_comitee  lstm                  comitee   \n",
       "55  run_8298119734_ensemble_comitee  lstm                  comitee   \n",
       "56  run_8298119734_ensemble_comitee  lstm                  comitee   \n",
       "57  run_8298119734_ensemble_comitee  lstm                  comitee   \n",
       "58  run_8298119734_ensemble_comitee  lstm                  comitee   \n",
       "59  run_8298119734_ensemble_comitee  lstm                  comitee   \n",
       "\n",
       "    dataset_size  accuracy  precision_avg  recall_avg    f1_avg  \\\n",
       "0              0  0.492882       0.495619    0.492882  0.475160   \n",
       "1            100  0.584831       0.585438    0.584831  0.582375   \n",
       "2            200  0.615869       0.618872    0.615869  0.614604   \n",
       "3            300  0.613536       0.615219    0.613536  0.612981   \n",
       "4            400  0.607468       0.609623    0.607468  0.603838   \n",
       "5            500  0.633839       0.635749    0.633839  0.631454   \n",
       "6            600  0.624504       0.624767    0.624504  0.624525   \n",
       "7            700  0.630105       0.634199    0.630105  0.628439   \n",
       "8            800  0.624737       0.628117    0.624737  0.620695   \n",
       "9            900  0.635473       0.639656    0.635473  0.633842   \n",
       "10          1000  0.649008       0.649495    0.649008  0.648990   \n",
       "11          2000  0.675613       0.675791    0.675613  0.675637   \n",
       "12          3000  0.686814       0.687609    0.686814  0.686073   \n",
       "13          4000  0.680280       0.680777    0.680280  0.680267   \n",
       "14          5000  0.688215       0.688419    0.688215  0.688237   \n",
       "15          6000  0.684247       0.685076    0.684247  0.684168   \n",
       "16          7000  0.690782       0.690917    0.690782  0.690509   \n",
       "17          8000  0.706184       0.709352    0.706184  0.705556   \n",
       "18          9000  0.699417       0.699382    0.699417  0.699369   \n",
       "19         10000  0.696383       0.696353    0.696383  0.696304   \n",
       "20             0  0.522054       0.524386    0.522054  0.518801   \n",
       "21           100  0.570828       0.571361    0.570828  0.567694   \n",
       "22           200  0.585998       0.602647    0.585998  0.572680   \n",
       "23           300  0.612602       0.612636    0.612602  0.612616   \n",
       "24           400  0.613769       0.614496    0.613769  0.613659   \n",
       "25           500  0.637806       0.642622    0.637806  0.635900   \n",
       "26           600  0.645041       0.647289    0.645041  0.642674   \n",
       "27           700  0.645741       0.648070    0.645741  0.645067   \n",
       "28           800  0.637106       0.651348    0.637106  0.630389   \n",
       "29           900  0.648308       0.648514    0.648308  0.648333   \n",
       "30          1000  0.649008       0.653130    0.649008  0.647590   \n",
       "31          2000  0.675613       0.677649    0.675613  0.675182   \n",
       "32          3000  0.678180       0.679795    0.678180  0.676857   \n",
       "33          4000  0.684714       0.686291    0.684714  0.683494   \n",
       "34          5000  0.704784       0.705200    0.704784  0.704371   \n",
       "35          6000  0.712252       0.712225    0.712252  0.712228   \n",
       "36          7000  0.704317       0.705321    0.704317  0.703583   \n",
       "37          8000  0.715053       0.716967    0.715053  0.713983   \n",
       "38          9000  0.719720       0.720997    0.719720  0.719578   \n",
       "39         10000  0.728821       0.728842    0.728821  0.728829   \n",
       "40             0  0.480747       0.478841    0.480747  0.476954   \n",
       "41           100  0.585998       0.606623    0.585998  0.559596   \n",
       "42           200  0.608168       0.610783    0.608168  0.604044   \n",
       "43           300  0.620537       0.621461    0.620537  0.618799   \n",
       "44           400  0.629638       0.629686    0.629638  0.629159   \n",
       "45           500  0.633139       0.633430    0.633139  0.632353   \n",
       "46           600  0.631272       0.632279    0.631272  0.631081   \n",
       "47           700  0.645274       0.646771    0.645274  0.644931   \n",
       "48           800  0.646908       0.647127    0.646908  0.646334   \n",
       "49           900  0.636873       0.637212    0.636873  0.636882   \n",
       "50          1000  0.646908       0.649166    0.646908  0.644580   \n",
       "51          2000  0.675146       0.676867    0.675146  0.674811   \n",
       "52          3000  0.684947       0.685572    0.684947  0.684300   \n",
       "53          4000  0.686581       0.686676    0.686581  0.686332   \n",
       "54          5000  0.701284       0.703007    0.701284  0.701012   \n",
       "55          6000  0.684247       0.684227    0.684247  0.684234   \n",
       "56          7000  0.688681       0.688642    0.688681  0.688623   \n",
       "57          8000  0.695683       0.695969    0.695683  0.695315   \n",
       "58          9000  0.701284       0.702458    0.701284  0.701142   \n",
       "59         10000  0.704947       0.697164    0.696849  0.696468   \n",
       "\n",
       "    precision_negative  precision_positive  recall_negative  recall_positive  \\\n",
       "0             0.502587            0.488404         0.311927         0.680285   \n",
       "1             0.581076            0.589956         0.659174         0.507838   \n",
       "2             0.640971            0.595985         0.556881         0.676960   \n",
       "3             0.632591            0.597228         0.573394         0.655107   \n",
       "4             0.597494            0.622184         0.700000         0.511639   \n",
       "5             0.622740            0.649220         0.711009         0.553919   \n",
       "6             0.634480            0.614709         0.617890         0.631354   \n",
       "7             0.660550            0.606908         0.561468         0.701188   \n",
       "8             0.610596            0.646263         0.724312         0.521615   \n",
       "9             0.666667            0.611682         0.566972         0.706413   \n",
       "10            0.661414            0.637152         0.635321         0.663183   \n",
       "11            0.684752            0.666511         0.671560         0.679810   \n",
       "12            0.677995            0.697566         0.732110         0.639905   \n",
       "13            0.693225            0.667885         0.666514         0.694537   \n",
       "14            0.697751            0.678754         0.683028         0.693587   \n",
       "15            0.700242            0.669369         0.663303         0.705938   \n",
       "16            0.687912            0.694030         0.717890         0.662708   \n",
       "17            0.737249            0.680461         0.656422         0.757720   \n",
       "18            0.701993            0.696678         0.711009         0.687411   \n",
       "19            0.697884            0.694767         0.711009         0.681235   \n",
       "20            0.536913            0.511414         0.440367         0.606651   \n",
       "21            0.567955            0.574887         0.653670         0.485036   \n",
       "22            0.646676            0.557049         0.410550         0.767696   \n",
       "23            0.619816            0.605201         0.616972         0.608076   \n",
       "24            0.627365            0.601169         0.593119         0.635154   \n",
       "25            0.671585            0.612627         0.563761         0.714489   \n",
       "26            0.632170            0.662946         0.722936         0.564371   \n",
       "27            0.669570            0.625804         0.599541         0.693587   \n",
       "28            0.699936            0.601029         0.501835         0.777197   \n",
       "29            0.657759            0.638941         0.643578         0.653207   \n",
       "30            0.680942            0.624328         0.583486         0.716865   \n",
       "31            0.699294            0.655232         0.635780         0.716865   \n",
       "32            0.665564            0.694534         0.738532         0.615677   \n",
       "33            0.671920            0.701174         0.743119         0.624228   \n",
       "34            0.698309            0.712336         0.738991         0.669359   \n",
       "35            0.715521            0.708812         0.721101         0.703088   \n",
       "36            0.693514            0.717549         0.750459         0.656532   \n",
       "37            0.699211            0.735357         0.772018         0.656057   \n",
       "38            0.740069            0.701247         0.692202         0.748219   \n",
       "39            0.734346            0.723142         0.731651         0.725891   \n",
       "40            0.491032            0.466216         0.565138         0.393349   \n",
       "41            0.563636            0.651142         0.824771         0.338717   \n",
       "42            0.597055            0.625000         0.706881         0.505938   \n",
       "43            0.613804            0.629390         0.685321         0.553444   \n",
       "44            0.628857            0.630544         0.663761         0.594299   \n",
       "45            0.629693            0.637300         0.677064         0.587648   \n",
       "46            0.647203            0.616822         0.605046         0.658432   \n",
       "47            0.664671            0.628233         0.611009         0.680760   \n",
       "48            0.643812            0.650560         0.684862         0.607601   \n",
       "49            0.647727            0.626323         0.627523         0.646556   \n",
       "50            0.633882            0.664994         0.724312         0.566746   \n",
       "51            0.697000            0.656018         0.639450         0.712114   \n",
       "52            0.677350            0.694087         0.727064         0.641330   \n",
       "53            0.684442            0.688988         0.712385         0.659857   \n",
       "54            0.724104            0.681159         0.666972         0.736817   \n",
       "55            0.688899            0.679389         0.691743         0.676485   \n",
       "56            0.691230            0.685962         0.701376         0.675534   \n",
       "57            0.690767            0.701357         0.727523         0.662708   \n",
       "58            0.720372            0.683905         0.674771         0.728741   \n",
       "59            0.691605            0.702920         0.729358         0.663183   \n",
       "\n",
       "    f1_negative  f1_positive  \n",
       "0      0.384942     0.568592  \n",
       "1      0.617666     0.545826  \n",
       "2      0.595974     0.633897  \n",
       "3      0.601540     0.624830  \n",
       "4      0.644698     0.561522  \n",
       "5      0.663954     0.597795  \n",
       "6      0.626075     0.622920  \n",
       "7      0.606992     0.650650  \n",
       "8      0.662610     0.577287  \n",
       "9      0.612791     0.655644  \n",
       "10     0.648105     0.649907  \n",
       "11     0.678092     0.673095  \n",
       "12     0.704014     0.667493  \n",
       "13     0.679607     0.680950  \n",
       "14     0.690311     0.686090  \n",
       "15     0.681272     0.687168  \n",
       "16     0.702581     0.678007  \n",
       "17     0.694492     0.717015  \n",
       "18     0.706472     0.692013  \n",
       "19     0.704385     0.687935  \n",
       "20     0.483871     0.554976  \n",
       "21     0.607806     0.526153  \n",
       "22     0.502245     0.645625  \n",
       "23     0.618391     0.606635  \n",
       "24     0.609762     0.617695  \n",
       "25     0.612968     0.659649  \n",
       "26     0.674513     0.609700  \n",
       "27     0.632623     0.657954  \n",
       "28     0.584558     0.677854  \n",
       "29     0.650591     0.645995  \n",
       "30     0.628458     0.667404  \n",
       "31     0.666026     0.684664  \n",
       "32     0.700152     0.652732  \n",
       "33     0.705729     0.660467  \n",
       "34     0.718074     0.690179  \n",
       "35     0.718300     0.705938  \n",
       "36     0.720864     0.685686  \n",
       "37     0.733813     0.693447  \n",
       "38     0.715335     0.723972  \n",
       "39     0.732996     0.724514  \n",
       "40     0.525485     0.426694  \n",
       "41     0.669646     0.445625  \n",
       "42     0.647343     0.559202  \n",
       "43     0.647594     0.588979  \n",
       "44     0.645838     0.611886  \n",
       "45     0.652520     0.611468  \n",
       "46     0.625415     0.636949  \n",
       "47     0.636711     0.653443  \n",
       "48     0.663703     0.628347  \n",
       "49     0.637465     0.636279  \n",
       "50     0.676086     0.611952  \n",
       "51     0.666986     0.682916  \n",
       "52     0.701327     0.666667  \n",
       "53     0.698134     0.674108  \n",
       "54     0.694365     0.707896  \n",
       "55     0.690318     0.677934  \n",
       "56     0.696266     0.680708  \n",
       "57     0.708668     0.681485  \n",
       "58     0.696826     0.705612  \n",
       "59     0.709980     0.682474  "
      ]
     },
     "execution_count": 61,
     "metadata": {},
     "output_type": "execute_result"
    }
   ],
   "source": [
    "results_lstm"
   ]
  },
  {
   "cell_type": "code",
   "execution_count": 62,
   "metadata": {},
   "outputs": [],
   "source": [
    "results_bert_comitee = results_bert[results_bert['active_learning_strategy'] == \"comitee\"]\n",
    "results_bert_random = results_lstm[results_bert['active_learning_strategy'] == \"random\"]\n",
    "results_bert_uncertainty = results_bert[results_bert['active_learning_strategy'] == \"uncertainty\"]\n",
    "\n",
    "results_bert_comitee_accuracy = results_bert_comitee.accuracy.to_list()\n",
    "results_bert_comitee_precision = results_bert_comitee.accuracy.to_list()\n",
    "results_bert_comitee_f1 = results_bert_comitee.accuracy.to_list()\n",
    "\n",
    "results_bert_random_accuracy = results_bert_random.accuracy.to_list()\n",
    "results_bert_random_precision = results_bert_random.accuracy.to_list()\n",
    "results_bert_random_f1 = results_bert_random.accuracy.to_list()\n",
    "\n",
    "results_bert_uncertainty_accuracy = results_bert_uncertainty.accuracy.to_list()\n",
    "results_bert_uncertainty_precision = results_bert_uncertainty.accuracy.to_list()\n",
    "results_bert_uncertainty_f1 = results_bert_uncertainty.accuracy.to_list()"
   ]
  },
  {
   "cell_type": "code",
   "execution_count": 63,
   "metadata": {},
   "outputs": [],
   "source": [
    "results_lstm_comitee = results_lstm[results_lstm['active_learning_strategy'] == \"comitee\"]\n",
    "results_lstm_random = results_lstm[results_lstm['active_learning_strategy'] == \"random\"]\n",
    "results_lstm_uncertainty = results_lstm[results_lstm['active_learning_strategy'] == \"uncertainty\"]\n",
    "\n",
    "results_lstm_comitee_accuracy = results_lstm_comitee.accuracy.to_list()\n",
    "results_lstm_comitee_precision = results_lstm_comitee.accuracy.to_list()\n",
    "results_lstm_comitee_f1 = results_lstm_comitee.accuracy.to_list()\n",
    "\n",
    "results_lstm_random_accuracy = results_lstm_random.accuracy.to_list()\n",
    "results_lstm_random_precision = results_lstm_random.accuracy.to_list()\n",
    "results_lstm_random_f1 = results_lstm_random.accuracy.to_list()\n",
    "\n",
    "results_lstm_uncertainty_accuracy = results_lstm_uncertainty.accuracy.to_list()\n",
    "results_lstm_uncertainty_precision = results_lstm_uncertainty.accuracy.to_list()\n",
    "results_lstm_uncertainty_f1 = results_lstm_uncertainty.accuracy.to_list()"
   ]
  },
  {
   "cell_type": "code",
   "execution_count": 64,
   "metadata": {},
   "outputs": [],
   "source": [
    "results_svm_comitee = results_svm[results_svm['active_learning_strategy'] == \"comitee\"]\n",
    "results_svm_random = results_svm[results_svm['active_learning_strategy'] == \"random\"]\n",
    "results_svm_uncertainty = results_svm[results_svm['active_learning_strategy'] == \"uncertainty\"]\n",
    "\n",
    "results_svm_comitee_accuracy = results_svm_comitee.accuracy.to_list()\n",
    "results_svm_comitee_precision = results_svm_comitee.accuracy.to_list()\n",
    "results_svm_comitee_f1 = results_svm_comitee.accuracy.to_list()\n",
    "\n",
    "results_svm_random_accuracy = results_svm_random.accuracy.to_list()\n",
    "results_svm_random_precision = results_svm_random.accuracy.to_list()\n",
    "results_svm_random_f1 = results_svm_random.accuracy.to_list()\n",
    "\n",
    "results_svm_uncertainty_accuracy = results_svm_uncertainty.accuracy.to_list()\n",
    "results_svm_uncertainty_precision = results_svm_uncertainty.accuracy.to_list()\n",
    "results_svm_uncertainty_f1 = results_svm_uncertainty.accuracy.to_list()"
   ]
  },
  {
   "cell_type": "code",
   "execution_count": 65,
   "metadata": {},
   "outputs": [
    {
     "data": {
      "text/plain": [
       "[0,\n",
       " 100,\n",
       " 200,\n",
       " 300,\n",
       " 400,\n",
       " 500,\n",
       " 600,\n",
       " 700,\n",
       " 800,\n",
       " 900,\n",
       " 1000,\n",
       " 2000,\n",
       " 3000,\n",
       " 4000,\n",
       " 5000,\n",
       " 6000,\n",
       " 7000,\n",
       " 8000,\n",
       " 9000,\n",
       " 10000]"
      ]
     },
     "execution_count": 65,
     "metadata": {},
     "output_type": "execute_result"
    }
   ],
   "source": [
    "X = results_svm.dataset_size.unique().tolist()\n",
    "\n",
    "X"
   ]
  },
  {
   "cell_type": "code",
   "execution_count": 66,
   "metadata": {},
   "outputs": [
    {
     "data": {
      "application/vnd.plotly.v1+json": {
       "config": {
        "plotlyServerURL": "https://plot.ly"
       },
       "data": [
        {
         "mode": "lines+markers",
         "name": "Query by committee",
         "type": "scatter",
         "x": [
          0,
          100,
          200,
          300,
          400,
          500,
          600,
          700,
          800,
          900,
          1000,
          2000,
          3000,
          4000,
          5000,
          6000,
          7000,
          8000,
          9000,
          10000
         ],
         "y": [
          0.4919486581096849,
          0.5402567094515752,
          0.5626604434072345,
          0.6053675612602101,
          0.5617269544924154,
          0.617269544924154,
          0.6175029171528588,
          0.6163360560093349,
          0.6413068844807468,
          0.6555425904317386,
          0.6401400233372229,
          0.6912485414235706,
          0.6791131855309218,
          0.7057176196032672,
          0.7169194865810968,
          0.7129521586931156,
          0.7246207701283547,
          0.7288214702450408,
          0.7325554259043174,
          0.7289428238039674
         ]
        },
        {
         "mode": "lines+markers",
         "name": "Uncertainty sampling",
         "type": "scatter",
         "x": [
          0,
          100,
          200,
          300,
          400,
          500,
          600,
          700,
          800,
          900,
          1000,
          2000,
          3000,
          4000,
          5000,
          6000,
          7000,
          8000,
          9000,
          10000
         ],
         "y": [
          0.4912485414235706,
          0.5626604434072345,
          0.6002333722287048,
          0.6084014002333722,
          0.5792298716452742,
          0.6280046674445741,
          0.6149358226371062,
          0.6571761960326721,
          0.6219369894982497,
          0.6394399066511085,
          0.6548424737456243,
          0.7029171528588098,
          0.7229871645274213,
          0.7353558926487748,
          0.7265810968494749,
          0.72975495915986,
          0.7276546091015169,
          0.7451575262543757,
          0.7407234539089849,
          0.7341190198366394
         ]
        },
        {
         "mode": "lines+markers",
         "name": "Random sampling",
         "type": "scatter",
         "x": [
          0,
          100,
          200,
          300,
          400,
          500,
          600,
          700,
          800,
          900,
          1000,
          2000,
          3000,
          4000,
          5000,
          6000,
          7000,
          8000,
          9000,
          10000
         ],
         "y": [
          0.492882147024504,
          0.5848308051341891,
          0.6158693115519254,
          0.6135355892648775,
          0.607467911318553,
          0.6338389731621937,
          0.6245040840140024,
          0.6301050175029171,
          0.6247374562427072,
          0.6354725787631272,
          0.6490081680280047,
          0.67561260210035,
          0.6868144690781797,
          0.6802800466744457,
          0.6882147024504084,
          0.6842473745624271,
          0.690781796966161,
          0.7061843640606768,
          0.699416569428238,
          0.6963827304550758
         ]
        }
       ],
       "layout": {
        "legend": {
         "title": {
          "text": "Dataset"
         }
        },
        "plot_bgcolor": "rgba(0,0,0,0)",
        "template": {
         "data": {
          "bar": [
           {
            "error_x": {
             "color": "#2a3f5f"
            },
            "error_y": {
             "color": "#2a3f5f"
            },
            "marker": {
             "line": {
              "color": "#E5ECF6",
              "width": 0.5
             },
             "pattern": {
              "fillmode": "overlay",
              "size": 10,
              "solidity": 0.2
             }
            },
            "type": "bar"
           }
          ],
          "barpolar": [
           {
            "marker": {
             "line": {
              "color": "#E5ECF6",
              "width": 0.5
             },
             "pattern": {
              "fillmode": "overlay",
              "size": 10,
              "solidity": 0.2
             }
            },
            "type": "barpolar"
           }
          ],
          "carpet": [
           {
            "aaxis": {
             "endlinecolor": "#2a3f5f",
             "gridcolor": "white",
             "linecolor": "white",
             "minorgridcolor": "white",
             "startlinecolor": "#2a3f5f"
            },
            "baxis": {
             "endlinecolor": "#2a3f5f",
             "gridcolor": "white",
             "linecolor": "white",
             "minorgridcolor": "white",
             "startlinecolor": "#2a3f5f"
            },
            "type": "carpet"
           }
          ],
          "choropleth": [
           {
            "colorbar": {
             "outlinewidth": 0,
             "ticks": ""
            },
            "type": "choropleth"
           }
          ],
          "contour": [
           {
            "colorbar": {
             "outlinewidth": 0,
             "ticks": ""
            },
            "colorscale": [
             [
              0,
              "#0d0887"
             ],
             [
              0.1111111111111111,
              "#46039f"
             ],
             [
              0.2222222222222222,
              "#7201a8"
             ],
             [
              0.3333333333333333,
              "#9c179e"
             ],
             [
              0.4444444444444444,
              "#bd3786"
             ],
             [
              0.5555555555555556,
              "#d8576b"
             ],
             [
              0.6666666666666666,
              "#ed7953"
             ],
             [
              0.7777777777777778,
              "#fb9f3a"
             ],
             [
              0.8888888888888888,
              "#fdca26"
             ],
             [
              1,
              "#f0f921"
             ]
            ],
            "type": "contour"
           }
          ],
          "contourcarpet": [
           {
            "colorbar": {
             "outlinewidth": 0,
             "ticks": ""
            },
            "type": "contourcarpet"
           }
          ],
          "heatmap": [
           {
            "colorbar": {
             "outlinewidth": 0,
             "ticks": ""
            },
            "colorscale": [
             [
              0,
              "#0d0887"
             ],
             [
              0.1111111111111111,
              "#46039f"
             ],
             [
              0.2222222222222222,
              "#7201a8"
             ],
             [
              0.3333333333333333,
              "#9c179e"
             ],
             [
              0.4444444444444444,
              "#bd3786"
             ],
             [
              0.5555555555555556,
              "#d8576b"
             ],
             [
              0.6666666666666666,
              "#ed7953"
             ],
             [
              0.7777777777777778,
              "#fb9f3a"
             ],
             [
              0.8888888888888888,
              "#fdca26"
             ],
             [
              1,
              "#f0f921"
             ]
            ],
            "type": "heatmap"
           }
          ],
          "heatmapgl": [
           {
            "colorbar": {
             "outlinewidth": 0,
             "ticks": ""
            },
            "colorscale": [
             [
              0,
              "#0d0887"
             ],
             [
              0.1111111111111111,
              "#46039f"
             ],
             [
              0.2222222222222222,
              "#7201a8"
             ],
             [
              0.3333333333333333,
              "#9c179e"
             ],
             [
              0.4444444444444444,
              "#bd3786"
             ],
             [
              0.5555555555555556,
              "#d8576b"
             ],
             [
              0.6666666666666666,
              "#ed7953"
             ],
             [
              0.7777777777777778,
              "#fb9f3a"
             ],
             [
              0.8888888888888888,
              "#fdca26"
             ],
             [
              1,
              "#f0f921"
             ]
            ],
            "type": "heatmapgl"
           }
          ],
          "histogram": [
           {
            "marker": {
             "pattern": {
              "fillmode": "overlay",
              "size": 10,
              "solidity": 0.2
             }
            },
            "type": "histogram"
           }
          ],
          "histogram2d": [
           {
            "colorbar": {
             "outlinewidth": 0,
             "ticks": ""
            },
            "colorscale": [
             [
              0,
              "#0d0887"
             ],
             [
              0.1111111111111111,
              "#46039f"
             ],
             [
              0.2222222222222222,
              "#7201a8"
             ],
             [
              0.3333333333333333,
              "#9c179e"
             ],
             [
              0.4444444444444444,
              "#bd3786"
             ],
             [
              0.5555555555555556,
              "#d8576b"
             ],
             [
              0.6666666666666666,
              "#ed7953"
             ],
             [
              0.7777777777777778,
              "#fb9f3a"
             ],
             [
              0.8888888888888888,
              "#fdca26"
             ],
             [
              1,
              "#f0f921"
             ]
            ],
            "type": "histogram2d"
           }
          ],
          "histogram2dcontour": [
           {
            "colorbar": {
             "outlinewidth": 0,
             "ticks": ""
            },
            "colorscale": [
             [
              0,
              "#0d0887"
             ],
             [
              0.1111111111111111,
              "#46039f"
             ],
             [
              0.2222222222222222,
              "#7201a8"
             ],
             [
              0.3333333333333333,
              "#9c179e"
             ],
             [
              0.4444444444444444,
              "#bd3786"
             ],
             [
              0.5555555555555556,
              "#d8576b"
             ],
             [
              0.6666666666666666,
              "#ed7953"
             ],
             [
              0.7777777777777778,
              "#fb9f3a"
             ],
             [
              0.8888888888888888,
              "#fdca26"
             ],
             [
              1,
              "#f0f921"
             ]
            ],
            "type": "histogram2dcontour"
           }
          ],
          "mesh3d": [
           {
            "colorbar": {
             "outlinewidth": 0,
             "ticks": ""
            },
            "type": "mesh3d"
           }
          ],
          "parcoords": [
           {
            "line": {
             "colorbar": {
              "outlinewidth": 0,
              "ticks": ""
             }
            },
            "type": "parcoords"
           }
          ],
          "pie": [
           {
            "automargin": true,
            "type": "pie"
           }
          ],
          "scatter": [
           {
            "fillpattern": {
             "fillmode": "overlay",
             "size": 10,
             "solidity": 0.2
            },
            "type": "scatter"
           }
          ],
          "scatter3d": [
           {
            "line": {
             "colorbar": {
              "outlinewidth": 0,
              "ticks": ""
             }
            },
            "marker": {
             "colorbar": {
              "outlinewidth": 0,
              "ticks": ""
             }
            },
            "type": "scatter3d"
           }
          ],
          "scattercarpet": [
           {
            "marker": {
             "colorbar": {
              "outlinewidth": 0,
              "ticks": ""
             }
            },
            "type": "scattercarpet"
           }
          ],
          "scattergeo": [
           {
            "marker": {
             "colorbar": {
              "outlinewidth": 0,
              "ticks": ""
             }
            },
            "type": "scattergeo"
           }
          ],
          "scattergl": [
           {
            "marker": {
             "colorbar": {
              "outlinewidth": 0,
              "ticks": ""
             }
            },
            "type": "scattergl"
           }
          ],
          "scattermapbox": [
           {
            "marker": {
             "colorbar": {
              "outlinewidth": 0,
              "ticks": ""
             }
            },
            "type": "scattermapbox"
           }
          ],
          "scatterpolar": [
           {
            "marker": {
             "colorbar": {
              "outlinewidth": 0,
              "ticks": ""
             }
            },
            "type": "scatterpolar"
           }
          ],
          "scatterpolargl": [
           {
            "marker": {
             "colorbar": {
              "outlinewidth": 0,
              "ticks": ""
             }
            },
            "type": "scatterpolargl"
           }
          ],
          "scatterternary": [
           {
            "marker": {
             "colorbar": {
              "outlinewidth": 0,
              "ticks": ""
             }
            },
            "type": "scatterternary"
           }
          ],
          "surface": [
           {
            "colorbar": {
             "outlinewidth": 0,
             "ticks": ""
            },
            "colorscale": [
             [
              0,
              "#0d0887"
             ],
             [
              0.1111111111111111,
              "#46039f"
             ],
             [
              0.2222222222222222,
              "#7201a8"
             ],
             [
              0.3333333333333333,
              "#9c179e"
             ],
             [
              0.4444444444444444,
              "#bd3786"
             ],
             [
              0.5555555555555556,
              "#d8576b"
             ],
             [
              0.6666666666666666,
              "#ed7953"
             ],
             [
              0.7777777777777778,
              "#fb9f3a"
             ],
             [
              0.8888888888888888,
              "#fdca26"
             ],
             [
              1,
              "#f0f921"
             ]
            ],
            "type": "surface"
           }
          ],
          "table": [
           {
            "cells": {
             "fill": {
              "color": "#EBF0F8"
             },
             "line": {
              "color": "white"
             }
            },
            "header": {
             "fill": {
              "color": "#C8D4E3"
             },
             "line": {
              "color": "white"
             }
            },
            "type": "table"
           }
          ]
         },
         "layout": {
          "annotationdefaults": {
           "arrowcolor": "#2a3f5f",
           "arrowhead": 0,
           "arrowwidth": 1
          },
          "autotypenumbers": "strict",
          "coloraxis": {
           "colorbar": {
            "outlinewidth": 0,
            "ticks": ""
           }
          },
          "colorscale": {
           "diverging": [
            [
             0,
             "#8e0152"
            ],
            [
             0.1,
             "#c51b7d"
            ],
            [
             0.2,
             "#de77ae"
            ],
            [
             0.3,
             "#f1b6da"
            ],
            [
             0.4,
             "#fde0ef"
            ],
            [
             0.5,
             "#f7f7f7"
            ],
            [
             0.6,
             "#e6f5d0"
            ],
            [
             0.7,
             "#b8e186"
            ],
            [
             0.8,
             "#7fbc41"
            ],
            [
             0.9,
             "#4d9221"
            ],
            [
             1,
             "#276419"
            ]
           ],
           "sequential": [
            [
             0,
             "#0d0887"
            ],
            [
             0.1111111111111111,
             "#46039f"
            ],
            [
             0.2222222222222222,
             "#7201a8"
            ],
            [
             0.3333333333333333,
             "#9c179e"
            ],
            [
             0.4444444444444444,
             "#bd3786"
            ],
            [
             0.5555555555555556,
             "#d8576b"
            ],
            [
             0.6666666666666666,
             "#ed7953"
            ],
            [
             0.7777777777777778,
             "#fb9f3a"
            ],
            [
             0.8888888888888888,
             "#fdca26"
            ],
            [
             1,
             "#f0f921"
            ]
           ],
           "sequentialminus": [
            [
             0,
             "#0d0887"
            ],
            [
             0.1111111111111111,
             "#46039f"
            ],
            [
             0.2222222222222222,
             "#7201a8"
            ],
            [
             0.3333333333333333,
             "#9c179e"
            ],
            [
             0.4444444444444444,
             "#bd3786"
            ],
            [
             0.5555555555555556,
             "#d8576b"
            ],
            [
             0.6666666666666666,
             "#ed7953"
            ],
            [
             0.7777777777777778,
             "#fb9f3a"
            ],
            [
             0.8888888888888888,
             "#fdca26"
            ],
            [
             1,
             "#f0f921"
            ]
           ]
          },
          "colorway": [
           "#636efa",
           "#EF553B",
           "#00cc96",
           "#ab63fa",
           "#FFA15A",
           "#19d3f3",
           "#FF6692",
           "#B6E880",
           "#FF97FF",
           "#FECB52"
          ],
          "font": {
           "color": "#2a3f5f"
          },
          "geo": {
           "bgcolor": "white",
           "lakecolor": "white",
           "landcolor": "#E5ECF6",
           "showlakes": true,
           "showland": true,
           "subunitcolor": "white"
          },
          "hoverlabel": {
           "align": "left"
          },
          "hovermode": "closest",
          "mapbox": {
           "style": "light"
          },
          "paper_bgcolor": "white",
          "plot_bgcolor": "#E5ECF6",
          "polar": {
           "angularaxis": {
            "gridcolor": "white",
            "linecolor": "white",
            "ticks": ""
           },
           "bgcolor": "#E5ECF6",
           "radialaxis": {
            "gridcolor": "white",
            "linecolor": "white",
            "ticks": ""
           }
          },
          "scene": {
           "xaxis": {
            "backgroundcolor": "#E5ECF6",
            "gridcolor": "white",
            "gridwidth": 2,
            "linecolor": "white",
            "showbackground": true,
            "ticks": "",
            "zerolinecolor": "white"
           },
           "yaxis": {
            "backgroundcolor": "#E5ECF6",
            "gridcolor": "white",
            "gridwidth": 2,
            "linecolor": "white",
            "showbackground": true,
            "ticks": "",
            "zerolinecolor": "white"
           },
           "zaxis": {
            "backgroundcolor": "#E5ECF6",
            "gridcolor": "white",
            "gridwidth": 2,
            "linecolor": "white",
            "showbackground": true,
            "ticks": "",
            "zerolinecolor": "white"
           }
          },
          "shapedefaults": {
           "line": {
            "color": "#2a3f5f"
           }
          },
          "ternary": {
           "aaxis": {
            "gridcolor": "white",
            "linecolor": "white",
            "ticks": ""
           },
           "baxis": {
            "gridcolor": "white",
            "linecolor": "white",
            "ticks": ""
           },
           "bgcolor": "#E5ECF6",
           "caxis": {
            "gridcolor": "white",
            "linecolor": "white",
            "ticks": ""
           }
          },
          "title": {
           "x": 0.05
          },
          "xaxis": {
           "automargin": true,
           "gridcolor": "white",
           "linecolor": "white",
           "ticks": "",
           "title": {
            "standoff": 15
           },
           "zerolinecolor": "white",
           "zerolinewidth": 2
          },
          "yaxis": {
           "automargin": true,
           "gridcolor": "white",
           "linecolor": "white",
           "ticks": "",
           "title": {
            "standoff": 15
           },
           "zerolinecolor": "white",
           "zerolinewidth": 2
          }
         }
        },
        "title": {
         "text": "Accuracy for Bert model"
        },
        "xaxis": {
         "title": {
          "text": "Number of samples"
         }
        },
        "yaxis": {
         "title": {
          "text": "Accuracy"
         }
        }
       }
      }
     },
     "metadata": {},
     "output_type": "display_data"
    }
   ],
   "source": [
    "figure_active_accuracy = go.Figure()\n",
    "\n",
    "figure_active_accuracy.add_trace(go.Scatter(x=X, y=results_bert_comitee_accuracy, mode='lines+markers', name='Query by committee'))\n",
    "figure_active_accuracy.add_trace(go.Scatter(x=X, y=results_bert_uncertainty_accuracy, mode='lines+markers', name='Uncertainty sampling'))\n",
    "figure_active_accuracy.add_trace(go.Scatter(x=X, y=results_bert_random_accuracy, mode='lines+markers', name='Random sampling'))\n",
    "\n",
    "figure_active_accuracy.update_layout(\n",
    "    title=\"Accuracy for Bert model\",\n",
    "    xaxis_title=\"Number of samples\",\n",
    "    yaxis_title=\"Accuracy\",\n",
    "    legend_title=\"Dataset\",\n",
    "    plot_bgcolor='rgba(0,0,0,0)',\n",
    ")\n",
    "\n",
    "figure_active_accuracy.show()"
   ]
  },
  {
   "cell_type": "code",
   "execution_count": 48,
   "metadata": {},
   "outputs": [
    {
     "data": {
      "application/vnd.plotly.v1+json": {
       "config": {
        "plotlyServerURL": "https://plot.ly"
       },
       "data": [
        {
         "mode": "lines+markers",
         "name": "Query by committee",
         "type": "scatter",
         "x": [
          0,
          100,
          200,
          300,
          400,
          500,
          600,
          700,
          800,
          900,
          1000,
          2000,
          3000,
          4000,
          5000,
          6000,
          7000,
          8000,
          9000,
          10000
         ],
         "y": [
          0.4807467911318553,
          0.585997666277713,
          0.6081680280046674,
          0.620536756126021,
          0.6296382730455076,
          0.6331388564760794,
          0.6312718786464411,
          0.6452742123687282,
          0.6469078179696616,
          0.6368728121353558,
          0.6469078179696616,
          0.6751458576429404,
          0.6849474912485414,
          0.6865810968494749,
          0.7012835472578763,
          0.6842473745624271,
          0.688681446907818,
          0.6956826137689615,
          0.7012835472578763,
          0.70494749124854
         ]
        },
        {
         "mode": "lines+markers",
         "name": "Uncertainty sampling",
         "type": "scatter",
         "x": [
          0,
          100,
          200,
          300,
          400,
          500,
          600,
          700,
          800,
          900,
          1000,
          2000,
          3000,
          4000,
          5000,
          6000,
          7000,
          8000,
          9000,
          10000
         ],
         "y": [
          0.5220536756126021,
          0.570828471411902,
          0.585997666277713,
          0.6126021003500584,
          0.6137689614935823,
          0.637806301050175,
          0.6450408401400234,
          0.6457409568261376,
          0.6371061843640606,
          0.6483080513418903,
          0.6490081680280047,
          0.67561260210035,
          0.6781796966161027,
          0.6847141190198366,
          0.704784130688448,
          0.7122520420070012,
          0.7043173862310385,
          0.7150525087514585,
          0.7197199533255543,
          0.7288214702450408
         ]
        },
        {
         "mode": "lines+markers",
         "name": "Random sampling",
         "type": "scatter",
         "x": [
          0,
          100,
          200,
          300,
          400,
          500,
          600,
          700,
          800,
          900,
          1000,
          2000,
          3000,
          4000,
          5000,
          6000,
          7000,
          8000,
          9000,
          10000
         ],
         "y": [
          0.492882147024504,
          0.5848308051341891,
          0.6158693115519254,
          0.6135355892648775,
          0.607467911318553,
          0.6338389731621937,
          0.6245040840140024,
          0.6301050175029171,
          0.6247374562427072,
          0.6354725787631272,
          0.6490081680280047,
          0.67561260210035,
          0.6868144690781797,
          0.6802800466744457,
          0.6882147024504084,
          0.6842473745624271,
          0.690781796966161,
          0.7061843640606768,
          0.699416569428238,
          0.6963827304550758
         ]
        }
       ],
       "layout": {
        "legend": {
         "title": {
          "text": "Dataset"
         }
        },
        "plot_bgcolor": "rgba(0,0,0,0)",
        "template": {
         "data": {
          "bar": [
           {
            "error_x": {
             "color": "#2a3f5f"
            },
            "error_y": {
             "color": "#2a3f5f"
            },
            "marker": {
             "line": {
              "color": "#E5ECF6",
              "width": 0.5
             },
             "pattern": {
              "fillmode": "overlay",
              "size": 10,
              "solidity": 0.2
             }
            },
            "type": "bar"
           }
          ],
          "barpolar": [
           {
            "marker": {
             "line": {
              "color": "#E5ECF6",
              "width": 0.5
             },
             "pattern": {
              "fillmode": "overlay",
              "size": 10,
              "solidity": 0.2
             }
            },
            "type": "barpolar"
           }
          ],
          "carpet": [
           {
            "aaxis": {
             "endlinecolor": "#2a3f5f",
             "gridcolor": "white",
             "linecolor": "white",
             "minorgridcolor": "white",
             "startlinecolor": "#2a3f5f"
            },
            "baxis": {
             "endlinecolor": "#2a3f5f",
             "gridcolor": "white",
             "linecolor": "white",
             "minorgridcolor": "white",
             "startlinecolor": "#2a3f5f"
            },
            "type": "carpet"
           }
          ],
          "choropleth": [
           {
            "colorbar": {
             "outlinewidth": 0,
             "ticks": ""
            },
            "type": "choropleth"
           }
          ],
          "contour": [
           {
            "colorbar": {
             "outlinewidth": 0,
             "ticks": ""
            },
            "colorscale": [
             [
              0,
              "#0d0887"
             ],
             [
              0.1111111111111111,
              "#46039f"
             ],
             [
              0.2222222222222222,
              "#7201a8"
             ],
             [
              0.3333333333333333,
              "#9c179e"
             ],
             [
              0.4444444444444444,
              "#bd3786"
             ],
             [
              0.5555555555555556,
              "#d8576b"
             ],
             [
              0.6666666666666666,
              "#ed7953"
             ],
             [
              0.7777777777777778,
              "#fb9f3a"
             ],
             [
              0.8888888888888888,
              "#fdca26"
             ],
             [
              1,
              "#f0f921"
             ]
            ],
            "type": "contour"
           }
          ],
          "contourcarpet": [
           {
            "colorbar": {
             "outlinewidth": 0,
             "ticks": ""
            },
            "type": "contourcarpet"
           }
          ],
          "heatmap": [
           {
            "colorbar": {
             "outlinewidth": 0,
             "ticks": ""
            },
            "colorscale": [
             [
              0,
              "#0d0887"
             ],
             [
              0.1111111111111111,
              "#46039f"
             ],
             [
              0.2222222222222222,
              "#7201a8"
             ],
             [
              0.3333333333333333,
              "#9c179e"
             ],
             [
              0.4444444444444444,
              "#bd3786"
             ],
             [
              0.5555555555555556,
              "#d8576b"
             ],
             [
              0.6666666666666666,
              "#ed7953"
             ],
             [
              0.7777777777777778,
              "#fb9f3a"
             ],
             [
              0.8888888888888888,
              "#fdca26"
             ],
             [
              1,
              "#f0f921"
             ]
            ],
            "type": "heatmap"
           }
          ],
          "heatmapgl": [
           {
            "colorbar": {
             "outlinewidth": 0,
             "ticks": ""
            },
            "colorscale": [
             [
              0,
              "#0d0887"
             ],
             [
              0.1111111111111111,
              "#46039f"
             ],
             [
              0.2222222222222222,
              "#7201a8"
             ],
             [
              0.3333333333333333,
              "#9c179e"
             ],
             [
              0.4444444444444444,
              "#bd3786"
             ],
             [
              0.5555555555555556,
              "#d8576b"
             ],
             [
              0.6666666666666666,
              "#ed7953"
             ],
             [
              0.7777777777777778,
              "#fb9f3a"
             ],
             [
              0.8888888888888888,
              "#fdca26"
             ],
             [
              1,
              "#f0f921"
             ]
            ],
            "type": "heatmapgl"
           }
          ],
          "histogram": [
           {
            "marker": {
             "pattern": {
              "fillmode": "overlay",
              "size": 10,
              "solidity": 0.2
             }
            },
            "type": "histogram"
           }
          ],
          "histogram2d": [
           {
            "colorbar": {
             "outlinewidth": 0,
             "ticks": ""
            },
            "colorscale": [
             [
              0,
              "#0d0887"
             ],
             [
              0.1111111111111111,
              "#46039f"
             ],
             [
              0.2222222222222222,
              "#7201a8"
             ],
             [
              0.3333333333333333,
              "#9c179e"
             ],
             [
              0.4444444444444444,
              "#bd3786"
             ],
             [
              0.5555555555555556,
              "#d8576b"
             ],
             [
              0.6666666666666666,
              "#ed7953"
             ],
             [
              0.7777777777777778,
              "#fb9f3a"
             ],
             [
              0.8888888888888888,
              "#fdca26"
             ],
             [
              1,
              "#f0f921"
             ]
            ],
            "type": "histogram2d"
           }
          ],
          "histogram2dcontour": [
           {
            "colorbar": {
             "outlinewidth": 0,
             "ticks": ""
            },
            "colorscale": [
             [
              0,
              "#0d0887"
             ],
             [
              0.1111111111111111,
              "#46039f"
             ],
             [
              0.2222222222222222,
              "#7201a8"
             ],
             [
              0.3333333333333333,
              "#9c179e"
             ],
             [
              0.4444444444444444,
              "#bd3786"
             ],
             [
              0.5555555555555556,
              "#d8576b"
             ],
             [
              0.6666666666666666,
              "#ed7953"
             ],
             [
              0.7777777777777778,
              "#fb9f3a"
             ],
             [
              0.8888888888888888,
              "#fdca26"
             ],
             [
              1,
              "#f0f921"
             ]
            ],
            "type": "histogram2dcontour"
           }
          ],
          "mesh3d": [
           {
            "colorbar": {
             "outlinewidth": 0,
             "ticks": ""
            },
            "type": "mesh3d"
           }
          ],
          "parcoords": [
           {
            "line": {
             "colorbar": {
              "outlinewidth": 0,
              "ticks": ""
             }
            },
            "type": "parcoords"
           }
          ],
          "pie": [
           {
            "automargin": true,
            "type": "pie"
           }
          ],
          "scatter": [
           {
            "fillpattern": {
             "fillmode": "overlay",
             "size": 10,
             "solidity": 0.2
            },
            "type": "scatter"
           }
          ],
          "scatter3d": [
           {
            "line": {
             "colorbar": {
              "outlinewidth": 0,
              "ticks": ""
             }
            },
            "marker": {
             "colorbar": {
              "outlinewidth": 0,
              "ticks": ""
             }
            },
            "type": "scatter3d"
           }
          ],
          "scattercarpet": [
           {
            "marker": {
             "colorbar": {
              "outlinewidth": 0,
              "ticks": ""
             }
            },
            "type": "scattercarpet"
           }
          ],
          "scattergeo": [
           {
            "marker": {
             "colorbar": {
              "outlinewidth": 0,
              "ticks": ""
             }
            },
            "type": "scattergeo"
           }
          ],
          "scattergl": [
           {
            "marker": {
             "colorbar": {
              "outlinewidth": 0,
              "ticks": ""
             }
            },
            "type": "scattergl"
           }
          ],
          "scattermapbox": [
           {
            "marker": {
             "colorbar": {
              "outlinewidth": 0,
              "ticks": ""
             }
            },
            "type": "scattermapbox"
           }
          ],
          "scatterpolar": [
           {
            "marker": {
             "colorbar": {
              "outlinewidth": 0,
              "ticks": ""
             }
            },
            "type": "scatterpolar"
           }
          ],
          "scatterpolargl": [
           {
            "marker": {
             "colorbar": {
              "outlinewidth": 0,
              "ticks": ""
             }
            },
            "type": "scatterpolargl"
           }
          ],
          "scatterternary": [
           {
            "marker": {
             "colorbar": {
              "outlinewidth": 0,
              "ticks": ""
             }
            },
            "type": "scatterternary"
           }
          ],
          "surface": [
           {
            "colorbar": {
             "outlinewidth": 0,
             "ticks": ""
            },
            "colorscale": [
             [
              0,
              "#0d0887"
             ],
             [
              0.1111111111111111,
              "#46039f"
             ],
             [
              0.2222222222222222,
              "#7201a8"
             ],
             [
              0.3333333333333333,
              "#9c179e"
             ],
             [
              0.4444444444444444,
              "#bd3786"
             ],
             [
              0.5555555555555556,
              "#d8576b"
             ],
             [
              0.6666666666666666,
              "#ed7953"
             ],
             [
              0.7777777777777778,
              "#fb9f3a"
             ],
             [
              0.8888888888888888,
              "#fdca26"
             ],
             [
              1,
              "#f0f921"
             ]
            ],
            "type": "surface"
           }
          ],
          "table": [
           {
            "cells": {
             "fill": {
              "color": "#EBF0F8"
             },
             "line": {
              "color": "white"
             }
            },
            "header": {
             "fill": {
              "color": "#C8D4E3"
             },
             "line": {
              "color": "white"
             }
            },
            "type": "table"
           }
          ]
         },
         "layout": {
          "annotationdefaults": {
           "arrowcolor": "#2a3f5f",
           "arrowhead": 0,
           "arrowwidth": 1
          },
          "autotypenumbers": "strict",
          "coloraxis": {
           "colorbar": {
            "outlinewidth": 0,
            "ticks": ""
           }
          },
          "colorscale": {
           "diverging": [
            [
             0,
             "#8e0152"
            ],
            [
             0.1,
             "#c51b7d"
            ],
            [
             0.2,
             "#de77ae"
            ],
            [
             0.3,
             "#f1b6da"
            ],
            [
             0.4,
             "#fde0ef"
            ],
            [
             0.5,
             "#f7f7f7"
            ],
            [
             0.6,
             "#e6f5d0"
            ],
            [
             0.7,
             "#b8e186"
            ],
            [
             0.8,
             "#7fbc41"
            ],
            [
             0.9,
             "#4d9221"
            ],
            [
             1,
             "#276419"
            ]
           ],
           "sequential": [
            [
             0,
             "#0d0887"
            ],
            [
             0.1111111111111111,
             "#46039f"
            ],
            [
             0.2222222222222222,
             "#7201a8"
            ],
            [
             0.3333333333333333,
             "#9c179e"
            ],
            [
             0.4444444444444444,
             "#bd3786"
            ],
            [
             0.5555555555555556,
             "#d8576b"
            ],
            [
             0.6666666666666666,
             "#ed7953"
            ],
            [
             0.7777777777777778,
             "#fb9f3a"
            ],
            [
             0.8888888888888888,
             "#fdca26"
            ],
            [
             1,
             "#f0f921"
            ]
           ],
           "sequentialminus": [
            [
             0,
             "#0d0887"
            ],
            [
             0.1111111111111111,
             "#46039f"
            ],
            [
             0.2222222222222222,
             "#7201a8"
            ],
            [
             0.3333333333333333,
             "#9c179e"
            ],
            [
             0.4444444444444444,
             "#bd3786"
            ],
            [
             0.5555555555555556,
             "#d8576b"
            ],
            [
             0.6666666666666666,
             "#ed7953"
            ],
            [
             0.7777777777777778,
             "#fb9f3a"
            ],
            [
             0.8888888888888888,
             "#fdca26"
            ],
            [
             1,
             "#f0f921"
            ]
           ]
          },
          "colorway": [
           "#636efa",
           "#EF553B",
           "#00cc96",
           "#ab63fa",
           "#FFA15A",
           "#19d3f3",
           "#FF6692",
           "#B6E880",
           "#FF97FF",
           "#FECB52"
          ],
          "font": {
           "color": "#2a3f5f"
          },
          "geo": {
           "bgcolor": "white",
           "lakecolor": "white",
           "landcolor": "#E5ECF6",
           "showlakes": true,
           "showland": true,
           "subunitcolor": "white"
          },
          "hoverlabel": {
           "align": "left"
          },
          "hovermode": "closest",
          "mapbox": {
           "style": "light"
          },
          "paper_bgcolor": "white",
          "plot_bgcolor": "#E5ECF6",
          "polar": {
           "angularaxis": {
            "gridcolor": "white",
            "linecolor": "white",
            "ticks": ""
           },
           "bgcolor": "#E5ECF6",
           "radialaxis": {
            "gridcolor": "white",
            "linecolor": "white",
            "ticks": ""
           }
          },
          "scene": {
           "xaxis": {
            "backgroundcolor": "#E5ECF6",
            "gridcolor": "white",
            "gridwidth": 2,
            "linecolor": "white",
            "showbackground": true,
            "ticks": "",
            "zerolinecolor": "white"
           },
           "yaxis": {
            "backgroundcolor": "#E5ECF6",
            "gridcolor": "white",
            "gridwidth": 2,
            "linecolor": "white",
            "showbackground": true,
            "ticks": "",
            "zerolinecolor": "white"
           },
           "zaxis": {
            "backgroundcolor": "#E5ECF6",
            "gridcolor": "white",
            "gridwidth": 2,
            "linecolor": "white",
            "showbackground": true,
            "ticks": "",
            "zerolinecolor": "white"
           }
          },
          "shapedefaults": {
           "line": {
            "color": "#2a3f5f"
           }
          },
          "ternary": {
           "aaxis": {
            "gridcolor": "white",
            "linecolor": "white",
            "ticks": ""
           },
           "baxis": {
            "gridcolor": "white",
            "linecolor": "white",
            "ticks": ""
           },
           "bgcolor": "#E5ECF6",
           "caxis": {
            "gridcolor": "white",
            "linecolor": "white",
            "ticks": ""
           }
          },
          "title": {
           "x": 0.05
          },
          "xaxis": {
           "automargin": true,
           "gridcolor": "white",
           "linecolor": "white",
           "ticks": "",
           "title": {
            "standoff": 15
           },
           "zerolinecolor": "white",
           "zerolinewidth": 2
          },
          "yaxis": {
           "automargin": true,
           "gridcolor": "white",
           "linecolor": "white",
           "ticks": "",
           "title": {
            "standoff": 15
           },
           "zerolinecolor": "white",
           "zerolinewidth": 2
          }
         }
        },
        "title": {
         "text": "Accuracy for LSTM"
        },
        "xaxis": {
         "title": {
          "text": "Number of samples"
         }
        },
        "yaxis": {
         "title": {
          "text": "Accuracy"
         }
        }
       }
      }
     },
     "metadata": {},
     "output_type": "display_data"
    }
   ],
   "source": [
    "figure_active_accuracy = go.Figure()\n",
    "\n",
    "figure_active_accuracy.add_trace(go.Scatter(x=X, y=results_lstm_comitee_accuracy, mode='lines+markers', name='Query by committee'))\n",
    "figure_active_accuracy.add_trace(go.Scatter(x=X, y=results_lstm_uncertainty_accuracy, mode='lines+markers', name='Uncertainty sampling'))\n",
    "figure_active_accuracy.add_trace(go.Scatter(x=X, y=results_lstm_random_accuracy, mode='lines+markers', name='Random sampling'))\n",
    "\n",
    "figure_active_accuracy.update_layout(\n",
    "    title=\"Accuracy for LSTM\",\n",
    "    xaxis_title=\"Number of samples\",\n",
    "    yaxis_title=\"Accuracy\",\n",
    "    legend_title=\"Dataset\",\n",
    "    plot_bgcolor='rgba(0,0,0,0)',\n",
    ")\n",
    "\n",
    "figure_active_accuracy.show()"
   ]
  },
  {
   "cell_type": "code",
   "execution_count": 68,
   "metadata": {},
   "outputs": [
    {
     "data": {
      "application/vnd.plotly.v1+json": {
       "config": {
        "plotlyServerURL": "https://plot.ly"
       },
       "data": [
        {
         "mode": "lines+markers",
         "name": "Query by committee",
         "type": "scatter",
         "x": [
          0,
          100,
          200,
          300,
          400,
          500,
          600,
          700,
          800,
          900,
          1000,
          2000,
          3000,
          4000,
          5000,
          6000,
          7000,
          8000,
          9000,
          10000
         ],
         "y": [
          0.5040840140023337,
          0.5061843640606768,
          0.5204200700116686,
          0.5150525087514586,
          0.5185530921820304,
          0.5337222870478413,
          0.5393885647607934,
          0.5465227537922988,
          0.5658226371061844,
          0.5727887981330222,
          0.5816219369894982,
          0.5793547257876313,
          0.5819229871645275,
          0.58512252042007,
          0.5934562427071179,
          0.6012123687281213,
          0.608389731621937,
          0.6087584597432905,
          0.6098249708284714,
          0.6107922987164527
         ]
        },
        {
         "mode": "lines+markers",
         "name": "Uncertainty sampling",
         "type": "scatter",
         "x": [
          0,
          100,
          200,
          300,
          400,
          500,
          600,
          700,
          800,
          900,
          1000,
          2000,
          3000,
          4000,
          5000,
          6000,
          7000,
          8000,
          9000,
          10000
         ],
         "y": [
          0.5040840140023337,
          0.5061843640606768,
          0.5204200700116686,
          0.5250525087514586,
          0.5285530921820304,
          0.5337222870478413,
          0.5413885647607934,
          0.5565227537922987,
          0.5758226371061844,
          0.5827887981330222,
          0.5916219369894982,
          0.6013547257876313,
          0.6037922987164527,
          0.60712252042007,
          0.607456242707118,
          0.6021236872812135,
          0.610389731621937,
          0.612075845974329,
          0.6148249708284714,
          0.6157922987164527
         ]
        },
        {
         "mode": "lines+markers",
         "name": "Random sampling",
         "type": "scatter",
         "x": [
          0,
          100,
          200,
          300,
          400,
          500,
          600,
          700,
          800,
          900,
          1000,
          2000,
          3000,
          4000,
          5000,
          6000,
          7000,
          8000,
          9000,
          10000
         ],
         "y": [
          0.5040840140023337,
          0.5061843640606768,
          0.5294200700116686,
          0.5250525087514586,
          0.5265530921820304,
          0.5367222870478413,
          0.5513885647607935,
          0.5665227537922987,
          0.5658226371061844,
          0.5627887981330222,
          0.5666219369894983,
          0.5773547257876313,
          0.58129871645275,
          0.59012252042007,
          0.5861456242707117,
          0.6021236872812135,
          0.603389731621937,
          0.601075845974329,
          0.6039824970828471,
          0.6043792298716452
         ]
        }
       ],
       "layout": {
        "legend": {
         "title": {
          "text": "Dataset"
         }
        },
        "plot_bgcolor": "rgba(0,0,0,0)",
        "template": {
         "data": {
          "bar": [
           {
            "error_x": {
             "color": "#2a3f5f"
            },
            "error_y": {
             "color": "#2a3f5f"
            },
            "marker": {
             "line": {
              "color": "#E5ECF6",
              "width": 0.5
             },
             "pattern": {
              "fillmode": "overlay",
              "size": 10,
              "solidity": 0.2
             }
            },
            "type": "bar"
           }
          ],
          "barpolar": [
           {
            "marker": {
             "line": {
              "color": "#E5ECF6",
              "width": 0.5
             },
             "pattern": {
              "fillmode": "overlay",
              "size": 10,
              "solidity": 0.2
             }
            },
            "type": "barpolar"
           }
          ],
          "carpet": [
           {
            "aaxis": {
             "endlinecolor": "#2a3f5f",
             "gridcolor": "white",
             "linecolor": "white",
             "minorgridcolor": "white",
             "startlinecolor": "#2a3f5f"
            },
            "baxis": {
             "endlinecolor": "#2a3f5f",
             "gridcolor": "white",
             "linecolor": "white",
             "minorgridcolor": "white",
             "startlinecolor": "#2a3f5f"
            },
            "type": "carpet"
           }
          ],
          "choropleth": [
           {
            "colorbar": {
             "outlinewidth": 0,
             "ticks": ""
            },
            "type": "choropleth"
           }
          ],
          "contour": [
           {
            "colorbar": {
             "outlinewidth": 0,
             "ticks": ""
            },
            "colorscale": [
             [
              0,
              "#0d0887"
             ],
             [
              0.1111111111111111,
              "#46039f"
             ],
             [
              0.2222222222222222,
              "#7201a8"
             ],
             [
              0.3333333333333333,
              "#9c179e"
             ],
             [
              0.4444444444444444,
              "#bd3786"
             ],
             [
              0.5555555555555556,
              "#d8576b"
             ],
             [
              0.6666666666666666,
              "#ed7953"
             ],
             [
              0.7777777777777778,
              "#fb9f3a"
             ],
             [
              0.8888888888888888,
              "#fdca26"
             ],
             [
              1,
              "#f0f921"
             ]
            ],
            "type": "contour"
           }
          ],
          "contourcarpet": [
           {
            "colorbar": {
             "outlinewidth": 0,
             "ticks": ""
            },
            "type": "contourcarpet"
           }
          ],
          "heatmap": [
           {
            "colorbar": {
             "outlinewidth": 0,
             "ticks": ""
            },
            "colorscale": [
             [
              0,
              "#0d0887"
             ],
             [
              0.1111111111111111,
              "#46039f"
             ],
             [
              0.2222222222222222,
              "#7201a8"
             ],
             [
              0.3333333333333333,
              "#9c179e"
             ],
             [
              0.4444444444444444,
              "#bd3786"
             ],
             [
              0.5555555555555556,
              "#d8576b"
             ],
             [
              0.6666666666666666,
              "#ed7953"
             ],
             [
              0.7777777777777778,
              "#fb9f3a"
             ],
             [
              0.8888888888888888,
              "#fdca26"
             ],
             [
              1,
              "#f0f921"
             ]
            ],
            "type": "heatmap"
           }
          ],
          "heatmapgl": [
           {
            "colorbar": {
             "outlinewidth": 0,
             "ticks": ""
            },
            "colorscale": [
             [
              0,
              "#0d0887"
             ],
             [
              0.1111111111111111,
              "#46039f"
             ],
             [
              0.2222222222222222,
              "#7201a8"
             ],
             [
              0.3333333333333333,
              "#9c179e"
             ],
             [
              0.4444444444444444,
              "#bd3786"
             ],
             [
              0.5555555555555556,
              "#d8576b"
             ],
             [
              0.6666666666666666,
              "#ed7953"
             ],
             [
              0.7777777777777778,
              "#fb9f3a"
             ],
             [
              0.8888888888888888,
              "#fdca26"
             ],
             [
              1,
              "#f0f921"
             ]
            ],
            "type": "heatmapgl"
           }
          ],
          "histogram": [
           {
            "marker": {
             "pattern": {
              "fillmode": "overlay",
              "size": 10,
              "solidity": 0.2
             }
            },
            "type": "histogram"
           }
          ],
          "histogram2d": [
           {
            "colorbar": {
             "outlinewidth": 0,
             "ticks": ""
            },
            "colorscale": [
             [
              0,
              "#0d0887"
             ],
             [
              0.1111111111111111,
              "#46039f"
             ],
             [
              0.2222222222222222,
              "#7201a8"
             ],
             [
              0.3333333333333333,
              "#9c179e"
             ],
             [
              0.4444444444444444,
              "#bd3786"
             ],
             [
              0.5555555555555556,
              "#d8576b"
             ],
             [
              0.6666666666666666,
              "#ed7953"
             ],
             [
              0.7777777777777778,
              "#fb9f3a"
             ],
             [
              0.8888888888888888,
              "#fdca26"
             ],
             [
              1,
              "#f0f921"
             ]
            ],
            "type": "histogram2d"
           }
          ],
          "histogram2dcontour": [
           {
            "colorbar": {
             "outlinewidth": 0,
             "ticks": ""
            },
            "colorscale": [
             [
              0,
              "#0d0887"
             ],
             [
              0.1111111111111111,
              "#46039f"
             ],
             [
              0.2222222222222222,
              "#7201a8"
             ],
             [
              0.3333333333333333,
              "#9c179e"
             ],
             [
              0.4444444444444444,
              "#bd3786"
             ],
             [
              0.5555555555555556,
              "#d8576b"
             ],
             [
              0.6666666666666666,
              "#ed7953"
             ],
             [
              0.7777777777777778,
              "#fb9f3a"
             ],
             [
              0.8888888888888888,
              "#fdca26"
             ],
             [
              1,
              "#f0f921"
             ]
            ],
            "type": "histogram2dcontour"
           }
          ],
          "mesh3d": [
           {
            "colorbar": {
             "outlinewidth": 0,
             "ticks": ""
            },
            "type": "mesh3d"
           }
          ],
          "parcoords": [
           {
            "line": {
             "colorbar": {
              "outlinewidth": 0,
              "ticks": ""
             }
            },
            "type": "parcoords"
           }
          ],
          "pie": [
           {
            "automargin": true,
            "type": "pie"
           }
          ],
          "scatter": [
           {
            "fillpattern": {
             "fillmode": "overlay",
             "size": 10,
             "solidity": 0.2
            },
            "type": "scatter"
           }
          ],
          "scatter3d": [
           {
            "line": {
             "colorbar": {
              "outlinewidth": 0,
              "ticks": ""
             }
            },
            "marker": {
             "colorbar": {
              "outlinewidth": 0,
              "ticks": ""
             }
            },
            "type": "scatter3d"
           }
          ],
          "scattercarpet": [
           {
            "marker": {
             "colorbar": {
              "outlinewidth": 0,
              "ticks": ""
             }
            },
            "type": "scattercarpet"
           }
          ],
          "scattergeo": [
           {
            "marker": {
             "colorbar": {
              "outlinewidth": 0,
              "ticks": ""
             }
            },
            "type": "scattergeo"
           }
          ],
          "scattergl": [
           {
            "marker": {
             "colorbar": {
              "outlinewidth": 0,
              "ticks": ""
             }
            },
            "type": "scattergl"
           }
          ],
          "scattermapbox": [
           {
            "marker": {
             "colorbar": {
              "outlinewidth": 0,
              "ticks": ""
             }
            },
            "type": "scattermapbox"
           }
          ],
          "scatterpolar": [
           {
            "marker": {
             "colorbar": {
              "outlinewidth": 0,
              "ticks": ""
             }
            },
            "type": "scatterpolar"
           }
          ],
          "scatterpolargl": [
           {
            "marker": {
             "colorbar": {
              "outlinewidth": 0,
              "ticks": ""
             }
            },
            "type": "scatterpolargl"
           }
          ],
          "scatterternary": [
           {
            "marker": {
             "colorbar": {
              "outlinewidth": 0,
              "ticks": ""
             }
            },
            "type": "scatterternary"
           }
          ],
          "surface": [
           {
            "colorbar": {
             "outlinewidth": 0,
             "ticks": ""
            },
            "colorscale": [
             [
              0,
              "#0d0887"
             ],
             [
              0.1111111111111111,
              "#46039f"
             ],
             [
              0.2222222222222222,
              "#7201a8"
             ],
             [
              0.3333333333333333,
              "#9c179e"
             ],
             [
              0.4444444444444444,
              "#bd3786"
             ],
             [
              0.5555555555555556,
              "#d8576b"
             ],
             [
              0.6666666666666666,
              "#ed7953"
             ],
             [
              0.7777777777777778,
              "#fb9f3a"
             ],
             [
              0.8888888888888888,
              "#fdca26"
             ],
             [
              1,
              "#f0f921"
             ]
            ],
            "type": "surface"
           }
          ],
          "table": [
           {
            "cells": {
             "fill": {
              "color": "#EBF0F8"
             },
             "line": {
              "color": "white"
             }
            },
            "header": {
             "fill": {
              "color": "#C8D4E3"
             },
             "line": {
              "color": "white"
             }
            },
            "type": "table"
           }
          ]
         },
         "layout": {
          "annotationdefaults": {
           "arrowcolor": "#2a3f5f",
           "arrowhead": 0,
           "arrowwidth": 1
          },
          "autotypenumbers": "strict",
          "coloraxis": {
           "colorbar": {
            "outlinewidth": 0,
            "ticks": ""
           }
          },
          "colorscale": {
           "diverging": [
            [
             0,
             "#8e0152"
            ],
            [
             0.1,
             "#c51b7d"
            ],
            [
             0.2,
             "#de77ae"
            ],
            [
             0.3,
             "#f1b6da"
            ],
            [
             0.4,
             "#fde0ef"
            ],
            [
             0.5,
             "#f7f7f7"
            ],
            [
             0.6,
             "#e6f5d0"
            ],
            [
             0.7,
             "#b8e186"
            ],
            [
             0.8,
             "#7fbc41"
            ],
            [
             0.9,
             "#4d9221"
            ],
            [
             1,
             "#276419"
            ]
           ],
           "sequential": [
            [
             0,
             "#0d0887"
            ],
            [
             0.1111111111111111,
             "#46039f"
            ],
            [
             0.2222222222222222,
             "#7201a8"
            ],
            [
             0.3333333333333333,
             "#9c179e"
            ],
            [
             0.4444444444444444,
             "#bd3786"
            ],
            [
             0.5555555555555556,
             "#d8576b"
            ],
            [
             0.6666666666666666,
             "#ed7953"
            ],
            [
             0.7777777777777778,
             "#fb9f3a"
            ],
            [
             0.8888888888888888,
             "#fdca26"
            ],
            [
             1,
             "#f0f921"
            ]
           ],
           "sequentialminus": [
            [
             0,
             "#0d0887"
            ],
            [
             0.1111111111111111,
             "#46039f"
            ],
            [
             0.2222222222222222,
             "#7201a8"
            ],
            [
             0.3333333333333333,
             "#9c179e"
            ],
            [
             0.4444444444444444,
             "#bd3786"
            ],
            [
             0.5555555555555556,
             "#d8576b"
            ],
            [
             0.6666666666666666,
             "#ed7953"
            ],
            [
             0.7777777777777778,
             "#fb9f3a"
            ],
            [
             0.8888888888888888,
             "#fdca26"
            ],
            [
             1,
             "#f0f921"
            ]
           ]
          },
          "colorway": [
           "#636efa",
           "#EF553B",
           "#00cc96",
           "#ab63fa",
           "#FFA15A",
           "#19d3f3",
           "#FF6692",
           "#B6E880",
           "#FF97FF",
           "#FECB52"
          ],
          "font": {
           "color": "#2a3f5f"
          },
          "geo": {
           "bgcolor": "white",
           "lakecolor": "white",
           "landcolor": "#E5ECF6",
           "showlakes": true,
           "showland": true,
           "subunitcolor": "white"
          },
          "hoverlabel": {
           "align": "left"
          },
          "hovermode": "closest",
          "mapbox": {
           "style": "light"
          },
          "paper_bgcolor": "white",
          "plot_bgcolor": "#E5ECF6",
          "polar": {
           "angularaxis": {
            "gridcolor": "white",
            "linecolor": "white",
            "ticks": ""
           },
           "bgcolor": "#E5ECF6",
           "radialaxis": {
            "gridcolor": "white",
            "linecolor": "white",
            "ticks": ""
           }
          },
          "scene": {
           "xaxis": {
            "backgroundcolor": "#E5ECF6",
            "gridcolor": "white",
            "gridwidth": 2,
            "linecolor": "white",
            "showbackground": true,
            "ticks": "",
            "zerolinecolor": "white"
           },
           "yaxis": {
            "backgroundcolor": "#E5ECF6",
            "gridcolor": "white",
            "gridwidth": 2,
            "linecolor": "white",
            "showbackground": true,
            "ticks": "",
            "zerolinecolor": "white"
           },
           "zaxis": {
            "backgroundcolor": "#E5ECF6",
            "gridcolor": "white",
            "gridwidth": 2,
            "linecolor": "white",
            "showbackground": true,
            "ticks": "",
            "zerolinecolor": "white"
           }
          },
          "shapedefaults": {
           "line": {
            "color": "#2a3f5f"
           }
          },
          "ternary": {
           "aaxis": {
            "gridcolor": "white",
            "linecolor": "white",
            "ticks": ""
           },
           "baxis": {
            "gridcolor": "white",
            "linecolor": "white",
            "ticks": ""
           },
           "bgcolor": "#E5ECF6",
           "caxis": {
            "gridcolor": "white",
            "linecolor": "white",
            "ticks": ""
           }
          },
          "title": {
           "x": 0.05
          },
          "xaxis": {
           "automargin": true,
           "gridcolor": "white",
           "linecolor": "white",
           "ticks": "",
           "title": {
            "standoff": 15
           },
           "zerolinecolor": "white",
           "zerolinewidth": 2
          },
          "yaxis": {
           "automargin": true,
           "gridcolor": "white",
           "linecolor": "white",
           "ticks": "",
           "title": {
            "standoff": 15
           },
           "zerolinecolor": "white",
           "zerolinewidth": 2
          }
         }
        },
        "title": {
         "text": "Accuracy for SVM model"
        },
        "xaxis": {
         "title": {
          "text": "Number of samples"
         }
        },
        "yaxis": {
         "title": {
          "text": "Accuracy"
         }
        }
       }
      }
     },
     "metadata": {},
     "output_type": "display_data"
    }
   ],
   "source": [
    "figure_active_accuracy = go.Figure()\n",
    "\n",
    "figure_active_accuracy.add_trace(go.Scatter(x=X, y=results_svm_comitee_accuracy, mode='lines+markers', name='Query by committee'))\n",
    "figure_active_accuracy.add_trace(go.Scatter(x=X, y=results_svm_uncertainty_f1, mode='lines+markers', name='Uncertainty sampling'))\n",
    "figure_active_accuracy.add_trace(go.Scatter(x=X, y=results_svm_random_f1, mode='lines+markers', name='Random sampling'))\n",
    "\n",
    "figure_active_accuracy.update_layout(\n",
    "    title=\"Accuracy for SVM model\",\n",
    "    xaxis_title=\"Number of samples\",\n",
    "    yaxis_title=\"Accuracy\",\n",
    "    legend_title=\"Dataset\",\n",
    "    plot_bgcolor='rgba(0,0,0,0)',\n",
    ")\n",
    "\n",
    "figure_active_accuracy.show()"
   ]
  },
  {
   "cell_type": "code",
   "execution_count": 51,
   "metadata": {},
   "outputs": [
    {
     "data": {
      "application/vnd.plotly.v1+json": {
       "config": {
        "plotlyServerURL": "https://plot.ly"
       },
       "data": [
        {
         "mode": "lines+markers",
         "name": "Query by committee",
         "type": "scatter",
         "x": [
          0,
          100,
          200,
          300,
          400,
          500,
          600,
          700,
          800,
          900,
          1000,
          2000,
          3000,
          4000,
          5000,
          6000,
          7000,
          8000,
          9000,
          10000
         ],
         "y": [
          0.4919486581096849,
          0.5402567094515752,
          0.5626604434072345,
          0.6053675612602101,
          0.5617269544924154,
          0.617269544924154,
          0.6175029171528588,
          0.6163360560093349,
          0.6413068844807468,
          0.6555425904317386,
          0.6401400233372229,
          0.6912485414235706,
          0.6791131855309218,
          0.7057176196032672,
          0.7169194865810968,
          0.7129521586931156,
          0.7246207701283547,
          0.7288214702450408,
          0.7325554259043174,
          0.7289428238039674
         ]
        },
        {
         "mode": "lines+markers",
         "name": "Uncertainty sampling",
         "type": "scatter",
         "x": [
          0,
          100,
          200,
          300,
          400,
          500,
          600,
          700,
          800,
          900,
          1000,
          2000,
          3000,
          4000,
          5000,
          6000,
          7000,
          8000,
          9000,
          10000
         ],
         "y": [
          0.4912485414235706,
          0.5626604434072345,
          0.6002333722287048,
          0.6084014002333722,
          0.5792298716452742,
          0.6280046674445741,
          0.6149358226371062,
          0.6571761960326721,
          0.6219369894982497,
          0.6394399066511085,
          0.6548424737456243,
          0.7029171528588098,
          0.7229871645274213,
          0.7353558926487748,
          0.7265810968494749,
          0.72975495915986,
          0.7276546091015169,
          0.7451575262543757,
          0.7407234539089849,
          0.7341190198366394
         ]
        },
        {
         "mode": "lines+markers",
         "name": "Random sampling",
         "type": "scatter",
         "x": [
          0,
          100,
          200,
          300,
          400,
          500,
          600,
          700,
          800,
          900,
          1000,
          2000,
          3000,
          4000,
          5000,
          6000,
          7000,
          8000,
          9000,
          10000
         ],
         "y": [
          0.4912485414235706,
          0.569661610268378,
          0.5983663943990665,
          0.6105017502917153,
          0.5876312718786464,
          0.6133022170361727,
          0.6245040840140024,
          0.6198366394399066,
          0.6347724620770129,
          0.620536756126021,
          0.6469078179696616,
          0.6872812135355892,
          0.6704784130688448,
          0.7103850641773629,
          0.7129521586931156,
          0.7148191365227538,
          0.7082847141190198,
          0.7215869311551926,
          0.7248541423570595,
          0.7248541423570595
         ]
        }
       ],
       "layout": {
        "legend": {
         "title": {
          "text": "Dataset"
         }
        },
        "plot_bgcolor": "rgba(0,0,0,0)",
        "template": {
         "data": {
          "bar": [
           {
            "error_x": {
             "color": "#2a3f5f"
            },
            "error_y": {
             "color": "#2a3f5f"
            },
            "marker": {
             "line": {
              "color": "#E5ECF6",
              "width": 0.5
             },
             "pattern": {
              "fillmode": "overlay",
              "size": 10,
              "solidity": 0.2
             }
            },
            "type": "bar"
           }
          ],
          "barpolar": [
           {
            "marker": {
             "line": {
              "color": "#E5ECF6",
              "width": 0.5
             },
             "pattern": {
              "fillmode": "overlay",
              "size": 10,
              "solidity": 0.2
             }
            },
            "type": "barpolar"
           }
          ],
          "carpet": [
           {
            "aaxis": {
             "endlinecolor": "#2a3f5f",
             "gridcolor": "white",
             "linecolor": "white",
             "minorgridcolor": "white",
             "startlinecolor": "#2a3f5f"
            },
            "baxis": {
             "endlinecolor": "#2a3f5f",
             "gridcolor": "white",
             "linecolor": "white",
             "minorgridcolor": "white",
             "startlinecolor": "#2a3f5f"
            },
            "type": "carpet"
           }
          ],
          "choropleth": [
           {
            "colorbar": {
             "outlinewidth": 0,
             "ticks": ""
            },
            "type": "choropleth"
           }
          ],
          "contour": [
           {
            "colorbar": {
             "outlinewidth": 0,
             "ticks": ""
            },
            "colorscale": [
             [
              0,
              "#0d0887"
             ],
             [
              0.1111111111111111,
              "#46039f"
             ],
             [
              0.2222222222222222,
              "#7201a8"
             ],
             [
              0.3333333333333333,
              "#9c179e"
             ],
             [
              0.4444444444444444,
              "#bd3786"
             ],
             [
              0.5555555555555556,
              "#d8576b"
             ],
             [
              0.6666666666666666,
              "#ed7953"
             ],
             [
              0.7777777777777778,
              "#fb9f3a"
             ],
             [
              0.8888888888888888,
              "#fdca26"
             ],
             [
              1,
              "#f0f921"
             ]
            ],
            "type": "contour"
           }
          ],
          "contourcarpet": [
           {
            "colorbar": {
             "outlinewidth": 0,
             "ticks": ""
            },
            "type": "contourcarpet"
           }
          ],
          "heatmap": [
           {
            "colorbar": {
             "outlinewidth": 0,
             "ticks": ""
            },
            "colorscale": [
             [
              0,
              "#0d0887"
             ],
             [
              0.1111111111111111,
              "#46039f"
             ],
             [
              0.2222222222222222,
              "#7201a8"
             ],
             [
              0.3333333333333333,
              "#9c179e"
             ],
             [
              0.4444444444444444,
              "#bd3786"
             ],
             [
              0.5555555555555556,
              "#d8576b"
             ],
             [
              0.6666666666666666,
              "#ed7953"
             ],
             [
              0.7777777777777778,
              "#fb9f3a"
             ],
             [
              0.8888888888888888,
              "#fdca26"
             ],
             [
              1,
              "#f0f921"
             ]
            ],
            "type": "heatmap"
           }
          ],
          "heatmapgl": [
           {
            "colorbar": {
             "outlinewidth": 0,
             "ticks": ""
            },
            "colorscale": [
             [
              0,
              "#0d0887"
             ],
             [
              0.1111111111111111,
              "#46039f"
             ],
             [
              0.2222222222222222,
              "#7201a8"
             ],
             [
              0.3333333333333333,
              "#9c179e"
             ],
             [
              0.4444444444444444,
              "#bd3786"
             ],
             [
              0.5555555555555556,
              "#d8576b"
             ],
             [
              0.6666666666666666,
              "#ed7953"
             ],
             [
              0.7777777777777778,
              "#fb9f3a"
             ],
             [
              0.8888888888888888,
              "#fdca26"
             ],
             [
              1,
              "#f0f921"
             ]
            ],
            "type": "heatmapgl"
           }
          ],
          "histogram": [
           {
            "marker": {
             "pattern": {
              "fillmode": "overlay",
              "size": 10,
              "solidity": 0.2
             }
            },
            "type": "histogram"
           }
          ],
          "histogram2d": [
           {
            "colorbar": {
             "outlinewidth": 0,
             "ticks": ""
            },
            "colorscale": [
             [
              0,
              "#0d0887"
             ],
             [
              0.1111111111111111,
              "#46039f"
             ],
             [
              0.2222222222222222,
              "#7201a8"
             ],
             [
              0.3333333333333333,
              "#9c179e"
             ],
             [
              0.4444444444444444,
              "#bd3786"
             ],
             [
              0.5555555555555556,
              "#d8576b"
             ],
             [
              0.6666666666666666,
              "#ed7953"
             ],
             [
              0.7777777777777778,
              "#fb9f3a"
             ],
             [
              0.8888888888888888,
              "#fdca26"
             ],
             [
              1,
              "#f0f921"
             ]
            ],
            "type": "histogram2d"
           }
          ],
          "histogram2dcontour": [
           {
            "colorbar": {
             "outlinewidth": 0,
             "ticks": ""
            },
            "colorscale": [
             [
              0,
              "#0d0887"
             ],
             [
              0.1111111111111111,
              "#46039f"
             ],
             [
              0.2222222222222222,
              "#7201a8"
             ],
             [
              0.3333333333333333,
              "#9c179e"
             ],
             [
              0.4444444444444444,
              "#bd3786"
             ],
             [
              0.5555555555555556,
              "#d8576b"
             ],
             [
              0.6666666666666666,
              "#ed7953"
             ],
             [
              0.7777777777777778,
              "#fb9f3a"
             ],
             [
              0.8888888888888888,
              "#fdca26"
             ],
             [
              1,
              "#f0f921"
             ]
            ],
            "type": "histogram2dcontour"
           }
          ],
          "mesh3d": [
           {
            "colorbar": {
             "outlinewidth": 0,
             "ticks": ""
            },
            "type": "mesh3d"
           }
          ],
          "parcoords": [
           {
            "line": {
             "colorbar": {
              "outlinewidth": 0,
              "ticks": ""
             }
            },
            "type": "parcoords"
           }
          ],
          "pie": [
           {
            "automargin": true,
            "type": "pie"
           }
          ],
          "scatter": [
           {
            "fillpattern": {
             "fillmode": "overlay",
             "size": 10,
             "solidity": 0.2
            },
            "type": "scatter"
           }
          ],
          "scatter3d": [
           {
            "line": {
             "colorbar": {
              "outlinewidth": 0,
              "ticks": ""
             }
            },
            "marker": {
             "colorbar": {
              "outlinewidth": 0,
              "ticks": ""
             }
            },
            "type": "scatter3d"
           }
          ],
          "scattercarpet": [
           {
            "marker": {
             "colorbar": {
              "outlinewidth": 0,
              "ticks": ""
             }
            },
            "type": "scattercarpet"
           }
          ],
          "scattergeo": [
           {
            "marker": {
             "colorbar": {
              "outlinewidth": 0,
              "ticks": ""
             }
            },
            "type": "scattergeo"
           }
          ],
          "scattergl": [
           {
            "marker": {
             "colorbar": {
              "outlinewidth": 0,
              "ticks": ""
             }
            },
            "type": "scattergl"
           }
          ],
          "scattermapbox": [
           {
            "marker": {
             "colorbar": {
              "outlinewidth": 0,
              "ticks": ""
             }
            },
            "type": "scattermapbox"
           }
          ],
          "scatterpolar": [
           {
            "marker": {
             "colorbar": {
              "outlinewidth": 0,
              "ticks": ""
             }
            },
            "type": "scatterpolar"
           }
          ],
          "scatterpolargl": [
           {
            "marker": {
             "colorbar": {
              "outlinewidth": 0,
              "ticks": ""
             }
            },
            "type": "scatterpolargl"
           }
          ],
          "scatterternary": [
           {
            "marker": {
             "colorbar": {
              "outlinewidth": 0,
              "ticks": ""
             }
            },
            "type": "scatterternary"
           }
          ],
          "surface": [
           {
            "colorbar": {
             "outlinewidth": 0,
             "ticks": ""
            },
            "colorscale": [
             [
              0,
              "#0d0887"
             ],
             [
              0.1111111111111111,
              "#46039f"
             ],
             [
              0.2222222222222222,
              "#7201a8"
             ],
             [
              0.3333333333333333,
              "#9c179e"
             ],
             [
              0.4444444444444444,
              "#bd3786"
             ],
             [
              0.5555555555555556,
              "#d8576b"
             ],
             [
              0.6666666666666666,
              "#ed7953"
             ],
             [
              0.7777777777777778,
              "#fb9f3a"
             ],
             [
              0.8888888888888888,
              "#fdca26"
             ],
             [
              1,
              "#f0f921"
             ]
            ],
            "type": "surface"
           }
          ],
          "table": [
           {
            "cells": {
             "fill": {
              "color": "#EBF0F8"
             },
             "line": {
              "color": "white"
             }
            },
            "header": {
             "fill": {
              "color": "#C8D4E3"
             },
             "line": {
              "color": "white"
             }
            },
            "type": "table"
           }
          ]
         },
         "layout": {
          "annotationdefaults": {
           "arrowcolor": "#2a3f5f",
           "arrowhead": 0,
           "arrowwidth": 1
          },
          "autotypenumbers": "strict",
          "coloraxis": {
           "colorbar": {
            "outlinewidth": 0,
            "ticks": ""
           }
          },
          "colorscale": {
           "diverging": [
            [
             0,
             "#8e0152"
            ],
            [
             0.1,
             "#c51b7d"
            ],
            [
             0.2,
             "#de77ae"
            ],
            [
             0.3,
             "#f1b6da"
            ],
            [
             0.4,
             "#fde0ef"
            ],
            [
             0.5,
             "#f7f7f7"
            ],
            [
             0.6,
             "#e6f5d0"
            ],
            [
             0.7,
             "#b8e186"
            ],
            [
             0.8,
             "#7fbc41"
            ],
            [
             0.9,
             "#4d9221"
            ],
            [
             1,
             "#276419"
            ]
           ],
           "sequential": [
            [
             0,
             "#0d0887"
            ],
            [
             0.1111111111111111,
             "#46039f"
            ],
            [
             0.2222222222222222,
             "#7201a8"
            ],
            [
             0.3333333333333333,
             "#9c179e"
            ],
            [
             0.4444444444444444,
             "#bd3786"
            ],
            [
             0.5555555555555556,
             "#d8576b"
            ],
            [
             0.6666666666666666,
             "#ed7953"
            ],
            [
             0.7777777777777778,
             "#fb9f3a"
            ],
            [
             0.8888888888888888,
             "#fdca26"
            ],
            [
             1,
             "#f0f921"
            ]
           ],
           "sequentialminus": [
            [
             0,
             "#0d0887"
            ],
            [
             0.1111111111111111,
             "#46039f"
            ],
            [
             0.2222222222222222,
             "#7201a8"
            ],
            [
             0.3333333333333333,
             "#9c179e"
            ],
            [
             0.4444444444444444,
             "#bd3786"
            ],
            [
             0.5555555555555556,
             "#d8576b"
            ],
            [
             0.6666666666666666,
             "#ed7953"
            ],
            [
             0.7777777777777778,
             "#fb9f3a"
            ],
            [
             0.8888888888888888,
             "#fdca26"
            ],
            [
             1,
             "#f0f921"
            ]
           ]
          },
          "colorway": [
           "#636efa",
           "#EF553B",
           "#00cc96",
           "#ab63fa",
           "#FFA15A",
           "#19d3f3",
           "#FF6692",
           "#B6E880",
           "#FF97FF",
           "#FECB52"
          ],
          "font": {
           "color": "#2a3f5f"
          },
          "geo": {
           "bgcolor": "white",
           "lakecolor": "white",
           "landcolor": "#E5ECF6",
           "showlakes": true,
           "showland": true,
           "subunitcolor": "white"
          },
          "hoverlabel": {
           "align": "left"
          },
          "hovermode": "closest",
          "mapbox": {
           "style": "light"
          },
          "paper_bgcolor": "white",
          "plot_bgcolor": "#E5ECF6",
          "polar": {
           "angularaxis": {
            "gridcolor": "white",
            "linecolor": "white",
            "ticks": ""
           },
           "bgcolor": "#E5ECF6",
           "radialaxis": {
            "gridcolor": "white",
            "linecolor": "white",
            "ticks": ""
           }
          },
          "scene": {
           "xaxis": {
            "backgroundcolor": "#E5ECF6",
            "gridcolor": "white",
            "gridwidth": 2,
            "linecolor": "white",
            "showbackground": true,
            "ticks": "",
            "zerolinecolor": "white"
           },
           "yaxis": {
            "backgroundcolor": "#E5ECF6",
            "gridcolor": "white",
            "gridwidth": 2,
            "linecolor": "white",
            "showbackground": true,
            "ticks": "",
            "zerolinecolor": "white"
           },
           "zaxis": {
            "backgroundcolor": "#E5ECF6",
            "gridcolor": "white",
            "gridwidth": 2,
            "linecolor": "white",
            "showbackground": true,
            "ticks": "",
            "zerolinecolor": "white"
           }
          },
          "shapedefaults": {
           "line": {
            "color": "#2a3f5f"
           }
          },
          "ternary": {
           "aaxis": {
            "gridcolor": "white",
            "linecolor": "white",
            "ticks": ""
           },
           "baxis": {
            "gridcolor": "white",
            "linecolor": "white",
            "ticks": ""
           },
           "bgcolor": "#E5ECF6",
           "caxis": {
            "gridcolor": "white",
            "linecolor": "white",
            "ticks": ""
           }
          },
          "title": {
           "x": 0.05
          },
          "xaxis": {
           "automargin": true,
           "gridcolor": "white",
           "linecolor": "white",
           "ticks": "",
           "title": {
            "standoff": 15
           },
           "zerolinecolor": "white",
           "zerolinewidth": 2
          },
          "yaxis": {
           "automargin": true,
           "gridcolor": "white",
           "linecolor": "white",
           "ticks": "",
           "title": {
            "standoff": 15
           },
           "zerolinecolor": "white",
           "zerolinewidth": 2
          }
         }
        },
        "title": {
         "text": "F1 score for Bert model"
        },
        "xaxis": {
         "title": {
          "text": "Number of samples"
         }
        },
        "yaxis": {
         "title": {
          "text": "F1 score"
         }
        }
       }
      }
     },
     "metadata": {},
     "output_type": "display_data"
    }
   ],
   "source": [
    "figure_active_accuracy = go.Figure()\n",
    "\n",
    "figure_active_accuracy.add_trace(go.Scatter(x=X, y=results_bert_comitee_f1, mode='lines+markers', name='Query by committee'))\n",
    "figure_active_accuracy.add_trace(go.Scatter(x=X, y=results_bert_uncertainty_f1, mode='lines+markers', name='Uncertainty sampling'))\n",
    "figure_active_accuracy.add_trace(go.Scatter(x=X, y=results_bert_random_f1, mode='lines+markers', name='Random sampling'))\n",
    "\n",
    "figure_active_accuracy.update_layout(\n",
    "    title=\"F1 score for Bert model\",\n",
    "    xaxis_title=\"Number of samples\",\n",
    "    yaxis_title=\"F1 score\",\n",
    "    legend_title=\"Dataset\",\n",
    "    plot_bgcolor='rgba(0,0,0,0)',\n",
    ")\n",
    "\n",
    "figure_active_accuracy.show()"
   ]
  },
  {
   "cell_type": "code",
   "execution_count": 53,
   "metadata": {},
   "outputs": [
    {
     "data": {
      "application/vnd.plotly.v1+json": {
       "config": {
        "plotlyServerURL": "https://plot.ly"
       },
       "data": [
        {
         "mode": "lines+markers",
         "name": "Query by committee",
         "type": "scatter",
         "x": [
          0,
          100,
          200,
          300,
          400,
          500,
          600,
          700,
          800,
          900,
          1000,
          2000,
          3000,
          4000,
          5000,
          6000,
          7000,
          8000,
          9000,
          10000
         ],
         "y": [
          0.4807467911318553,
          0.585997666277713,
          0.6081680280046674,
          0.620536756126021,
          0.6296382730455076,
          0.6331388564760794,
          0.6312718786464411,
          0.6452742123687282,
          0.6469078179696616,
          0.6368728121353558,
          0.6469078179696616,
          0.6751458576429404,
          0.6849474912485414,
          0.6865810968494749,
          0.7012835472578763,
          0.6842473745624271,
          0.688681446907818,
          0.6956826137689615,
          0.7012835472578763,
          0.70494749124854
         ]
        },
        {
         "mode": "lines+markers",
         "name": "Uncertainty sampling",
         "type": "scatter",
         "x": [
          0,
          100,
          200,
          300,
          400,
          500,
          600,
          700,
          800,
          900,
          1000,
          2000,
          3000,
          4000,
          5000,
          6000,
          7000,
          8000,
          9000,
          10000
         ],
         "y": [
          0.5220536756126021,
          0.570828471411902,
          0.585997666277713,
          0.6126021003500584,
          0.6137689614935823,
          0.637806301050175,
          0.6450408401400234,
          0.6457409568261376,
          0.6371061843640606,
          0.6483080513418903,
          0.6490081680280047,
          0.67561260210035,
          0.6781796966161027,
          0.6847141190198366,
          0.704784130688448,
          0.7122520420070012,
          0.7043173862310385,
          0.7150525087514585,
          0.7197199533255543,
          0.7288214702450408
         ]
        },
        {
         "mode": "lines+markers",
         "name": "Random sampling",
         "type": "scatter",
         "x": [
          0,
          100,
          200,
          300,
          400,
          500,
          600,
          700,
          800,
          900,
          1000,
          2000,
          3000,
          4000,
          5000,
          6000,
          7000,
          8000,
          9000,
          10000
         ],
         "y": [
          0.492882147024504,
          0.5848308051341891,
          0.6158693115519254,
          0.6135355892648775,
          0.607467911318553,
          0.6338389731621937,
          0.6245040840140024,
          0.6301050175029171,
          0.6247374562427072,
          0.6354725787631272,
          0.6490081680280047,
          0.67561260210035,
          0.6868144690781797,
          0.6802800466744457,
          0.6882147024504084,
          0.6842473745624271,
          0.690781796966161,
          0.7061843640606768,
          0.699416569428238,
          0.6963827304550758
         ]
        }
       ],
       "layout": {
        "legend": {
         "title": {
          "text": "Dataset"
         }
        },
        "plot_bgcolor": "rgba(0,0,0,0)",
        "template": {
         "data": {
          "bar": [
           {
            "error_x": {
             "color": "#2a3f5f"
            },
            "error_y": {
             "color": "#2a3f5f"
            },
            "marker": {
             "line": {
              "color": "#E5ECF6",
              "width": 0.5
             },
             "pattern": {
              "fillmode": "overlay",
              "size": 10,
              "solidity": 0.2
             }
            },
            "type": "bar"
           }
          ],
          "barpolar": [
           {
            "marker": {
             "line": {
              "color": "#E5ECF6",
              "width": 0.5
             },
             "pattern": {
              "fillmode": "overlay",
              "size": 10,
              "solidity": 0.2
             }
            },
            "type": "barpolar"
           }
          ],
          "carpet": [
           {
            "aaxis": {
             "endlinecolor": "#2a3f5f",
             "gridcolor": "white",
             "linecolor": "white",
             "minorgridcolor": "white",
             "startlinecolor": "#2a3f5f"
            },
            "baxis": {
             "endlinecolor": "#2a3f5f",
             "gridcolor": "white",
             "linecolor": "white",
             "minorgridcolor": "white",
             "startlinecolor": "#2a3f5f"
            },
            "type": "carpet"
           }
          ],
          "choropleth": [
           {
            "colorbar": {
             "outlinewidth": 0,
             "ticks": ""
            },
            "type": "choropleth"
           }
          ],
          "contour": [
           {
            "colorbar": {
             "outlinewidth": 0,
             "ticks": ""
            },
            "colorscale": [
             [
              0,
              "#0d0887"
             ],
             [
              0.1111111111111111,
              "#46039f"
             ],
             [
              0.2222222222222222,
              "#7201a8"
             ],
             [
              0.3333333333333333,
              "#9c179e"
             ],
             [
              0.4444444444444444,
              "#bd3786"
             ],
             [
              0.5555555555555556,
              "#d8576b"
             ],
             [
              0.6666666666666666,
              "#ed7953"
             ],
             [
              0.7777777777777778,
              "#fb9f3a"
             ],
             [
              0.8888888888888888,
              "#fdca26"
             ],
             [
              1,
              "#f0f921"
             ]
            ],
            "type": "contour"
           }
          ],
          "contourcarpet": [
           {
            "colorbar": {
             "outlinewidth": 0,
             "ticks": ""
            },
            "type": "contourcarpet"
           }
          ],
          "heatmap": [
           {
            "colorbar": {
             "outlinewidth": 0,
             "ticks": ""
            },
            "colorscale": [
             [
              0,
              "#0d0887"
             ],
             [
              0.1111111111111111,
              "#46039f"
             ],
             [
              0.2222222222222222,
              "#7201a8"
             ],
             [
              0.3333333333333333,
              "#9c179e"
             ],
             [
              0.4444444444444444,
              "#bd3786"
             ],
             [
              0.5555555555555556,
              "#d8576b"
             ],
             [
              0.6666666666666666,
              "#ed7953"
             ],
             [
              0.7777777777777778,
              "#fb9f3a"
             ],
             [
              0.8888888888888888,
              "#fdca26"
             ],
             [
              1,
              "#f0f921"
             ]
            ],
            "type": "heatmap"
           }
          ],
          "heatmapgl": [
           {
            "colorbar": {
             "outlinewidth": 0,
             "ticks": ""
            },
            "colorscale": [
             [
              0,
              "#0d0887"
             ],
             [
              0.1111111111111111,
              "#46039f"
             ],
             [
              0.2222222222222222,
              "#7201a8"
             ],
             [
              0.3333333333333333,
              "#9c179e"
             ],
             [
              0.4444444444444444,
              "#bd3786"
             ],
             [
              0.5555555555555556,
              "#d8576b"
             ],
             [
              0.6666666666666666,
              "#ed7953"
             ],
             [
              0.7777777777777778,
              "#fb9f3a"
             ],
             [
              0.8888888888888888,
              "#fdca26"
             ],
             [
              1,
              "#f0f921"
             ]
            ],
            "type": "heatmapgl"
           }
          ],
          "histogram": [
           {
            "marker": {
             "pattern": {
              "fillmode": "overlay",
              "size": 10,
              "solidity": 0.2
             }
            },
            "type": "histogram"
           }
          ],
          "histogram2d": [
           {
            "colorbar": {
             "outlinewidth": 0,
             "ticks": ""
            },
            "colorscale": [
             [
              0,
              "#0d0887"
             ],
             [
              0.1111111111111111,
              "#46039f"
             ],
             [
              0.2222222222222222,
              "#7201a8"
             ],
             [
              0.3333333333333333,
              "#9c179e"
             ],
             [
              0.4444444444444444,
              "#bd3786"
             ],
             [
              0.5555555555555556,
              "#d8576b"
             ],
             [
              0.6666666666666666,
              "#ed7953"
             ],
             [
              0.7777777777777778,
              "#fb9f3a"
             ],
             [
              0.8888888888888888,
              "#fdca26"
             ],
             [
              1,
              "#f0f921"
             ]
            ],
            "type": "histogram2d"
           }
          ],
          "histogram2dcontour": [
           {
            "colorbar": {
             "outlinewidth": 0,
             "ticks": ""
            },
            "colorscale": [
             [
              0,
              "#0d0887"
             ],
             [
              0.1111111111111111,
              "#46039f"
             ],
             [
              0.2222222222222222,
              "#7201a8"
             ],
             [
              0.3333333333333333,
              "#9c179e"
             ],
             [
              0.4444444444444444,
              "#bd3786"
             ],
             [
              0.5555555555555556,
              "#d8576b"
             ],
             [
              0.6666666666666666,
              "#ed7953"
             ],
             [
              0.7777777777777778,
              "#fb9f3a"
             ],
             [
              0.8888888888888888,
              "#fdca26"
             ],
             [
              1,
              "#f0f921"
             ]
            ],
            "type": "histogram2dcontour"
           }
          ],
          "mesh3d": [
           {
            "colorbar": {
             "outlinewidth": 0,
             "ticks": ""
            },
            "type": "mesh3d"
           }
          ],
          "parcoords": [
           {
            "line": {
             "colorbar": {
              "outlinewidth": 0,
              "ticks": ""
             }
            },
            "type": "parcoords"
           }
          ],
          "pie": [
           {
            "automargin": true,
            "type": "pie"
           }
          ],
          "scatter": [
           {
            "fillpattern": {
             "fillmode": "overlay",
             "size": 10,
             "solidity": 0.2
            },
            "type": "scatter"
           }
          ],
          "scatter3d": [
           {
            "line": {
             "colorbar": {
              "outlinewidth": 0,
              "ticks": ""
             }
            },
            "marker": {
             "colorbar": {
              "outlinewidth": 0,
              "ticks": ""
             }
            },
            "type": "scatter3d"
           }
          ],
          "scattercarpet": [
           {
            "marker": {
             "colorbar": {
              "outlinewidth": 0,
              "ticks": ""
             }
            },
            "type": "scattercarpet"
           }
          ],
          "scattergeo": [
           {
            "marker": {
             "colorbar": {
              "outlinewidth": 0,
              "ticks": ""
             }
            },
            "type": "scattergeo"
           }
          ],
          "scattergl": [
           {
            "marker": {
             "colorbar": {
              "outlinewidth": 0,
              "ticks": ""
             }
            },
            "type": "scattergl"
           }
          ],
          "scattermapbox": [
           {
            "marker": {
             "colorbar": {
              "outlinewidth": 0,
              "ticks": ""
             }
            },
            "type": "scattermapbox"
           }
          ],
          "scatterpolar": [
           {
            "marker": {
             "colorbar": {
              "outlinewidth": 0,
              "ticks": ""
             }
            },
            "type": "scatterpolar"
           }
          ],
          "scatterpolargl": [
           {
            "marker": {
             "colorbar": {
              "outlinewidth": 0,
              "ticks": ""
             }
            },
            "type": "scatterpolargl"
           }
          ],
          "scatterternary": [
           {
            "marker": {
             "colorbar": {
              "outlinewidth": 0,
              "ticks": ""
             }
            },
            "type": "scatterternary"
           }
          ],
          "surface": [
           {
            "colorbar": {
             "outlinewidth": 0,
             "ticks": ""
            },
            "colorscale": [
             [
              0,
              "#0d0887"
             ],
             [
              0.1111111111111111,
              "#46039f"
             ],
             [
              0.2222222222222222,
              "#7201a8"
             ],
             [
              0.3333333333333333,
              "#9c179e"
             ],
             [
              0.4444444444444444,
              "#bd3786"
             ],
             [
              0.5555555555555556,
              "#d8576b"
             ],
             [
              0.6666666666666666,
              "#ed7953"
             ],
             [
              0.7777777777777778,
              "#fb9f3a"
             ],
             [
              0.8888888888888888,
              "#fdca26"
             ],
             [
              1,
              "#f0f921"
             ]
            ],
            "type": "surface"
           }
          ],
          "table": [
           {
            "cells": {
             "fill": {
              "color": "#EBF0F8"
             },
             "line": {
              "color": "white"
             }
            },
            "header": {
             "fill": {
              "color": "#C8D4E3"
             },
             "line": {
              "color": "white"
             }
            },
            "type": "table"
           }
          ]
         },
         "layout": {
          "annotationdefaults": {
           "arrowcolor": "#2a3f5f",
           "arrowhead": 0,
           "arrowwidth": 1
          },
          "autotypenumbers": "strict",
          "coloraxis": {
           "colorbar": {
            "outlinewidth": 0,
            "ticks": ""
           }
          },
          "colorscale": {
           "diverging": [
            [
             0,
             "#8e0152"
            ],
            [
             0.1,
             "#c51b7d"
            ],
            [
             0.2,
             "#de77ae"
            ],
            [
             0.3,
             "#f1b6da"
            ],
            [
             0.4,
             "#fde0ef"
            ],
            [
             0.5,
             "#f7f7f7"
            ],
            [
             0.6,
             "#e6f5d0"
            ],
            [
             0.7,
             "#b8e186"
            ],
            [
             0.8,
             "#7fbc41"
            ],
            [
             0.9,
             "#4d9221"
            ],
            [
             1,
             "#276419"
            ]
           ],
           "sequential": [
            [
             0,
             "#0d0887"
            ],
            [
             0.1111111111111111,
             "#46039f"
            ],
            [
             0.2222222222222222,
             "#7201a8"
            ],
            [
             0.3333333333333333,
             "#9c179e"
            ],
            [
             0.4444444444444444,
             "#bd3786"
            ],
            [
             0.5555555555555556,
             "#d8576b"
            ],
            [
             0.6666666666666666,
             "#ed7953"
            ],
            [
             0.7777777777777778,
             "#fb9f3a"
            ],
            [
             0.8888888888888888,
             "#fdca26"
            ],
            [
             1,
             "#f0f921"
            ]
           ],
           "sequentialminus": [
            [
             0,
             "#0d0887"
            ],
            [
             0.1111111111111111,
             "#46039f"
            ],
            [
             0.2222222222222222,
             "#7201a8"
            ],
            [
             0.3333333333333333,
             "#9c179e"
            ],
            [
             0.4444444444444444,
             "#bd3786"
            ],
            [
             0.5555555555555556,
             "#d8576b"
            ],
            [
             0.6666666666666666,
             "#ed7953"
            ],
            [
             0.7777777777777778,
             "#fb9f3a"
            ],
            [
             0.8888888888888888,
             "#fdca26"
            ],
            [
             1,
             "#f0f921"
            ]
           ]
          },
          "colorway": [
           "#636efa",
           "#EF553B",
           "#00cc96",
           "#ab63fa",
           "#FFA15A",
           "#19d3f3",
           "#FF6692",
           "#B6E880",
           "#FF97FF",
           "#FECB52"
          ],
          "font": {
           "color": "#2a3f5f"
          },
          "geo": {
           "bgcolor": "white",
           "lakecolor": "white",
           "landcolor": "#E5ECF6",
           "showlakes": true,
           "showland": true,
           "subunitcolor": "white"
          },
          "hoverlabel": {
           "align": "left"
          },
          "hovermode": "closest",
          "mapbox": {
           "style": "light"
          },
          "paper_bgcolor": "white",
          "plot_bgcolor": "#E5ECF6",
          "polar": {
           "angularaxis": {
            "gridcolor": "white",
            "linecolor": "white",
            "ticks": ""
           },
           "bgcolor": "#E5ECF6",
           "radialaxis": {
            "gridcolor": "white",
            "linecolor": "white",
            "ticks": ""
           }
          },
          "scene": {
           "xaxis": {
            "backgroundcolor": "#E5ECF6",
            "gridcolor": "white",
            "gridwidth": 2,
            "linecolor": "white",
            "showbackground": true,
            "ticks": "",
            "zerolinecolor": "white"
           },
           "yaxis": {
            "backgroundcolor": "#E5ECF6",
            "gridcolor": "white",
            "gridwidth": 2,
            "linecolor": "white",
            "showbackground": true,
            "ticks": "",
            "zerolinecolor": "white"
           },
           "zaxis": {
            "backgroundcolor": "#E5ECF6",
            "gridcolor": "white",
            "gridwidth": 2,
            "linecolor": "white",
            "showbackground": true,
            "ticks": "",
            "zerolinecolor": "white"
           }
          },
          "shapedefaults": {
           "line": {
            "color": "#2a3f5f"
           }
          },
          "ternary": {
           "aaxis": {
            "gridcolor": "white",
            "linecolor": "white",
            "ticks": ""
           },
           "baxis": {
            "gridcolor": "white",
            "linecolor": "white",
            "ticks": ""
           },
           "bgcolor": "#E5ECF6",
           "caxis": {
            "gridcolor": "white",
            "linecolor": "white",
            "ticks": ""
           }
          },
          "title": {
           "x": 0.05
          },
          "xaxis": {
           "automargin": true,
           "gridcolor": "white",
           "linecolor": "white",
           "ticks": "",
           "title": {
            "standoff": 15
           },
           "zerolinecolor": "white",
           "zerolinewidth": 2
          },
          "yaxis": {
           "automargin": true,
           "gridcolor": "white",
           "linecolor": "white",
           "ticks": "",
           "title": {
            "standoff": 15
           },
           "zerolinecolor": "white",
           "zerolinewidth": 2
          }
         }
        },
        "title": {
         "text": "Accuracy for LSTM"
        },
        "xaxis": {
         "title": {
          "text": "Number of samples"
         }
        },
        "yaxis": {
         "title": {
          "text": "F1 score"
         }
        }
       }
      }
     },
     "metadata": {},
     "output_type": "display_data"
    }
   ],
   "source": [
    "figure_active_accuracy = go.Figure()\n",
    "\n",
    "figure_active_accuracy.add_trace(go.Scatter(x=X, y=results_lstm_comitee_f1, mode='lines+markers', name='Query by committee'))\n",
    "figure_active_accuracy.add_trace(go.Scatter(x=X, y=results_lstm_uncertainty_f1, mode='lines+markers', name='Uncertainty sampling'))\n",
    "figure_active_accuracy.add_trace(go.Scatter(x=X, y=results_lstm_random_f1, mode='lines+markers', name='Random sampling'))\n",
    "\n",
    "figure_active_accuracy.update_layout(\n",
    "    title=\"Accuracy for LSTM\",\n",
    "    xaxis_title=\"Number of samples\",\n",
    "    yaxis_title=\"F1 score\",\n",
    "    legend_title=\"Dataset\",\n",
    "    plot_bgcolor='rgba(0,0,0,0)',\n",
    ")\n",
    "\n",
    "figure_active_accuracy.show()"
   ]
  },
  {
   "cell_type": "code",
   "execution_count": null,
   "metadata": {},
   "outputs": [],
   "source": [
    "figure_active_accuracy = go.Figure()\n",
    "\n",
    "figure_active_accuracy.add_trace(go.Scatter(x=X, y=results_bert_comitee_f1, mode='lines+markers', name='Query by committee'))\n",
    "figure_active_accuracy.add_trace(go.Scatter(x=X, y=results_bert_uncertainty_f1, mode='lines+markers', name='Uncertainty sampling'))\n",
    "figure_active_accuracy.add_trace(go.Scatter(x=X, y=results_bert_random_f1, mode='lines+markers', name='Random sampling'))\n",
    "\n",
    "figure_active_accuracy.update_layout(\n",
    "    title=\"Accuracy for Bert model\",\n",
    "    xaxis_title=\"Number of samples\",\n",
    "    yaxis_title=\"Accuracy\",\n",
    "    legend_title=\"Dataset\",\n",
    "    plot_bgcolor='rgba(0,0,0,0)',\n",
    ")\n",
    "\n",
    "figure_active_accuracy.show()"
   ]
  }
 ],
 "metadata": {
  "kernelspec": {
   "display_name": "base",
   "language": "python",
   "name": "python3"
  },
  "language_info": {
   "codemirror_mode": {
    "name": "ipython",
    "version": 3
   },
   "file_extension": ".py",
   "mimetype": "text/x-python",
   "name": "python",
   "nbconvert_exporter": "python",
   "pygments_lexer": "ipython3",
   "version": "3.9.12"
  },
  "orig_nbformat": 4
 },
 "nbformat": 4,
 "nbformat_minor": 2
}
