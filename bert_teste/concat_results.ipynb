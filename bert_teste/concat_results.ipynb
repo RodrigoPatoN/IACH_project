{
 "cells": [
  {
   "cell_type": "code",
   "execution_count": 20,
   "metadata": {},
   "outputs": [],
   "source": [
    "RUN_NAME = 'run_8298167811_bert_random'\n",
    "\n",
    "import pandas as pd\n",
    "\n",
    "def append_results(run_name: str, results_file='./results/results.csv'):\n",
    "    results = pd.read_csv(results_file, comment='#')\n",
    "    run_results = pd.read_csv(f'./results/{RUN_NAME}/results.csv')\n",
    "    results = pd.concat([results, run_results], axis=0, ignore_index=True)\n",
    "    results.to_csv(results_file, index=False)\n",
    "\n",
    "append_results(RUN_NAME)\n"
   ]
  },
  {
   "cell_type": "code",
   "execution_count": 18,
   "metadata": {},
   "outputs": [
    {
     "name": "stderr",
     "output_type": "stream",
     "text": [
      "/tmp/ipykernel_17110/2361310675.py:11: FutureWarning: The behavior of DataFrame concatenation with empty or all-NA entries is deprecated. In a future version, this will no longer exclude empty or all-NA columns when determining the result dtypes. To retain the old behavior, exclude the relevant entries before the concat operation.\n",
      "  df = pd.concat([template_df, df], axis=0, ignore_index=True)\n",
      "/tmp/ipykernel_17110/2361310675.py:11: FutureWarning: The behavior of DataFrame concatenation with empty or all-NA entries is deprecated. In a future version, this will no longer exclude empty or all-NA columns when determining the result dtypes. To retain the old behavior, exclude the relevant entries before the concat operation.\n",
      "  df = pd.concat([template_df, df], axis=0, ignore_index=True)\n",
      "/tmp/ipykernel_17110/2361310675.py:11: FutureWarning: The behavior of DataFrame concatenation with empty or all-NA entries is deprecated. In a future version, this will no longer exclude empty or all-NA columns when determining the result dtypes. To retain the old behavior, exclude the relevant entries before the concat operation.\n",
      "  df = pd.concat([template_df, df], axis=0, ignore_index=True)\n",
      "/tmp/ipykernel_17110/2361310675.py:11: FutureWarning: The behavior of DataFrame concatenation with empty or all-NA entries is deprecated. In a future version, this will no longer exclude empty or all-NA columns when determining the result dtypes. To retain the old behavior, exclude the relevant entries before the concat operation.\n",
      "  df = pd.concat([template_df, df], axis=0, ignore_index=True)\n",
      "/tmp/ipykernel_17110/2361310675.py:11: FutureWarning: The behavior of DataFrame concatenation with empty or all-NA entries is deprecated. In a future version, this will no longer exclude empty or all-NA columns when determining the result dtypes. To retain the old behavior, exclude the relevant entries before the concat operation.\n",
      "  df = pd.concat([template_df, df], axis=0, ignore_index=True)\n",
      "/tmp/ipykernel_17110/2361310675.py:11: FutureWarning: The behavior of DataFrame concatenation with empty or all-NA entries is deprecated. In a future version, this will no longer exclude empty or all-NA columns when determining the result dtypes. To retain the old behavior, exclude the relevant entries before the concat operation.\n",
      "  df = pd.concat([template_df, df], axis=0, ignore_index=True)\n",
      "/tmp/ipykernel_17110/2361310675.py:11: FutureWarning: The behavior of DataFrame concatenation with empty or all-NA entries is deprecated. In a future version, this will no longer exclude empty or all-NA columns when determining the result dtypes. To retain the old behavior, exclude the relevant entries before the concat operation.\n",
      "  df = pd.concat([template_df, df], axis=0, ignore_index=True)\n",
      "/tmp/ipykernel_17110/2361310675.py:11: FutureWarning: The behavior of DataFrame concatenation with empty or all-NA entries is deprecated. In a future version, this will no longer exclude empty or all-NA columns when determining the result dtypes. To retain the old behavior, exclude the relevant entries before the concat operation.\n",
      "  df = pd.concat([template_df, df], axis=0, ignore_index=True)\n",
      "/tmp/ipykernel_17110/2361310675.py:11: FutureWarning: The behavior of DataFrame concatenation with empty or all-NA entries is deprecated. In a future version, this will no longer exclude empty or all-NA columns when determining the result dtypes. To retain the old behavior, exclude the relevant entries before the concat operation.\n",
      "  df = pd.concat([template_df, df], axis=0, ignore_index=True)\n",
      "/tmp/ipykernel_17110/2361310675.py:11: FutureWarning: The behavior of DataFrame concatenation with empty or all-NA entries is deprecated. In a future version, this will no longer exclude empty or all-NA columns when determining the result dtypes. To retain the old behavior, exclude the relevant entries before the concat operation.\n",
      "  df = pd.concat([template_df, df], axis=0, ignore_index=True)\n",
      "/tmp/ipykernel_17110/2361310675.py:11: FutureWarning: The behavior of DataFrame concatenation with empty or all-NA entries is deprecated. In a future version, this will no longer exclude empty or all-NA columns when determining the result dtypes. To retain the old behavior, exclude the relevant entries before the concat operation.\n",
      "  df = pd.concat([template_df, df], axis=0, ignore_index=True)\n",
      "/tmp/ipykernel_17110/2361310675.py:11: FutureWarning: The behavior of DataFrame concatenation with empty or all-NA entries is deprecated. In a future version, this will no longer exclude empty or all-NA columns when determining the result dtypes. To retain the old behavior, exclude the relevant entries before the concat operation.\n",
      "  df = pd.concat([template_df, df], axis=0, ignore_index=True)\n",
      "/tmp/ipykernel_17110/2361310675.py:11: FutureWarning: The behavior of DataFrame concatenation with empty or all-NA entries is deprecated. In a future version, this will no longer exclude empty or all-NA columns when determining the result dtypes. To retain the old behavior, exclude the relevant entries before the concat operation.\n",
      "  df = pd.concat([template_df, df], axis=0, ignore_index=True)\n"
     ]
    }
   ],
   "source": [
    "#just to correct the model names\n",
    "from glob import glob\n",
    "import os\n",
    "import pandas as pd\n",
    "\n",
    "files = glob(f'./results/run_*/results.csv') + glob(f'./results/results.csv')\n",
    "template = './results/expected_results.csv'\n",
    "for f in files:\n",
    "    df = pd.read_csv(f)\n",
    "    template_df = pd.read_csv(template)\n",
    "    df['model'] = df['run_name'].apply(lambda x: x.split('_')[2])\n",
    "    df = pd.concat([template_df, df], axis=0, ignore_index=True)\n",
    "    df.to_csv(f, index=False)"
   ]
  }
 ],
 "metadata": {
  "kernelspec": {
   "display_name": "tf214_python39",
   "language": "python",
   "name": "python3"
  },
  "language_info": {
   "codemirror_mode": {
    "name": "ipython",
    "version": 3
   },
   "file_extension": ".py",
   "mimetype": "text/x-python",
   "name": "python",
   "nbconvert_exporter": "python",
   "pygments_lexer": "ipython3",
   "version": "3.9.18"
  }
 },
 "nbformat": 4,
 "nbformat_minor": 2
}
