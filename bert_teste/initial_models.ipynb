{
 "cells": [
  {
   "cell_type": "code",
   "execution_count": 3,
   "metadata": {},
   "outputs": [],
   "source": [
    "from model_bert import BERTModel\n",
    "from model_lstm import LSTMModel\n",
    "from model_svm import SVMModel\n",
    "\n",
    "bert = BERTModel(\"https://tfhub.dev/tensorflow/bert_en_uncased_preprocess/3\", \"https://tfhub.dev/tensorflow/bert_en_uncased_L-12_H-768_A-12/4\")\n",
    "bert.compile(loss=\"binary_crossentropy\", optimizer=\"adam\", metrics=[\"accuracy\"])\n",
    "bert.save(\"./models/initial_bert.keras\")\n",
    "\n",
    "lstm = LSTMModel()\n",
    "lstm.compile(loss=\"binary_crossentropy\", optimizer=\"adam\", metrics=[\"accuracy\"])\n",
    "lstm.save(\"./models/initial_lstm.keras\")\n",
    "\n",
    "svm = SVMModel()\n",
    "svm.save(\"./models/initial_svm.keras\") #in reality is a pickle file, just using the .keras extension for compatibility\n"
   ]
  },
  {
   "cell_type": "code",
   "execution_count": 2,
   "metadata": {},
   "outputs": [
    {
     "ename": "",
     "evalue": "",
     "output_type": "error",
     "traceback": [
      "\u001b[1;31mThe Kernel crashed while executing code in the the current cell or a previous cell. Please review the code in the cell(s) to identify a possible cause of the failure. Click <a href='https://aka.ms/vscodeJupyterKernelCrash'>here</a> for more info. View Jupyter <a href='command:jupyter.viewOutput'>log</a> for further details."
     ]
    }
   ],
   "source": [
    "import pandas as pd\n",
    "from oracle import Oracle\n",
    "\n",
    "df = pd.read_csv(\"./datasets/Sentiment Analysis Dataset.csv\", on_bad_lines=\"skip\", encoding=\"utf-8\")\n",
    "\n",
    "oracle = Oracle(df, ['SentimentText'], ['Sentiment'])\n",
    "oracle.random_pick(1000)\n",
    "oracle.to_csv(\"./datasets/short_dataset.csv\")"
   ]
  }
 ],
 "metadata": {
  "kernelspec": {
   "display_name": "venv",
   "language": "python",
   "name": "python3"
  },
  "language_info": {
   "codemirror_mode": {
    "name": "ipython",
    "version": 3
   },
   "file_extension": ".py",
   "mimetype": "text/x-python",
   "name": "python",
   "nbconvert_exporter": "python",
   "pygments_lexer": "ipython3",
   "version": "3.9.18"
  }
 },
 "nbformat": 4,
 "nbformat_minor": 2
}
